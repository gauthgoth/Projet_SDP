{
 "cells": [
  {
   "cell_type": "markdown",
   "id": "2b2a04a3",
   "metadata": {},
   "source": [
    "# Projet SDP"
   ]
  },
  {
   "cell_type": "markdown",
   "id": "f96bce30",
   "metadata": {},
   "source": [
    "Agathe Gioan, Amine Larhchim, Gauthier Roy"
   ]
  },
  {
   "cell_type": "markdown",
   "id": "e07821d5",
   "metadata": {},
   "source": [
    "### Chargement des modules"
   ]
  },
  {
   "cell_type": "code",
   "execution_count": 1,
   "id": "f82fa56e",
   "metadata": {},
   "outputs": [],
   "source": [
    "from model import GurobiModel\n",
    "from non_domination_research import keep_non_dom_sol\n",
    "from gurobipy import GRB\n",
    "\n",
    "import json\n",
    "import os\n"
   ]
  },
  {
   "cell_type": "markdown",
   "id": "8b057ed4",
   "metadata": {},
   "source": [
    "### Chargement des données"
   ]
  },
  {
   "cell_type": "code",
   "execution_count": 2,
   "id": "ff990c2f",
   "metadata": {},
   "outputs": [],
   "source": [
    "data_name = \"toy_instance\""
   ]
  },
  {
   "cell_type": "code",
   "execution_count": 3,
   "id": "845c20b0",
   "metadata": {},
   "outputs": [],
   "source": [
    "# Opening JSON file\n",
    "with open(data_name + '.json') as json_file:\n",
    "    data = json.load(json_file)"
   ]
  },
  {
   "cell_type": "code",
   "execution_count": null,
   "id": "691797ac",
   "metadata": {},
   "outputs": [],
   "source": [
    "model = GurobiModel(data)\n",
    "\n",
    "model.constraint_initialization()\n",
    "model.m.params.outputflag = 0\n",
    "model.m.update()\n",
    "\n",
    "model.find_nadir()\n",
    "\n",
    "\n",
    "model.m.setObjective(-model.gain, GRB.MINIMIZE)\n",
    "model.m.update()\n",
    "\n",
    "df_solution = model.find_all_sol()\n",
    "\n",
    "indexes, df = keep_non_dom_sol(df_solution)\n",
    "\n",
    "path = os.path.join(\"solution\", data_name, 'model')\n",
    "os.makedirs(path, exist_ok=True)\n",
    "model_path_mps = []\n",
    "model_path_sol = []\n",
    "for index in df.index:\n",
    "    df.loc[index, \"model\"].write(os.path.join(path, str(index) + \".mps\"))\n",
    "    model_path_mps.append(os.path.join(path, str(index) + \".mps\"))\n",
    "    \n",
    "    df.loc[index, \"model\"].write(os.path.join(path, str(index) + \".sol\"))\n",
    "    model_path_sol.append(os.path.join(path, str(index) + \".sol\"))\n",
    "\n",
    "df[\"model_path_mps\"] = model_path_mps\n",
    "df[\"model_path_sol\"] = model_path_sol\n",
    "\n",
    "df[['benef', 'max_duration', 'max_project_per_employee', \n",
    "    'model_path_sol', \"model_path_mps\"]].to_csv(os.path.join(\"solution\", data_name, \"df_solution.csv\"), index_label=\"index\")"
   ]
  }
 ],
 "metadata": {
  "kernelspec": {
   "display_name": "base",
   "language": "python",
   "name": "python3"
  },
  "language_info": {
   "codemirror_mode": {
    "name": "ipython",
    "version": 3
   },
   "file_extension": ".py",
   "mimetype": "text/x-python",
   "name": "python",
   "nbconvert_exporter": "python",
   "pygments_lexer": "ipython3",
   "version": "3.10.0"
  },
  "vscode": {
   "interpreter": {
    "hash": "d1f96fb79600881b9471d5ced490866b201f07d0708b9e0508408559db534913"
   }
  }
 },
 "nbformat": 4,
 "nbformat_minor": 5
}
