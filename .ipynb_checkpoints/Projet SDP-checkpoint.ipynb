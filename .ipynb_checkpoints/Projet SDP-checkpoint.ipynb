{
 "cells": [
  {
   "cell_type": "code",
   "execution_count": 1,
   "id": "f82fa56e",
   "metadata": {},
   "outputs": [],
   "source": [
    "# Modules de base\n",
    "import numpy as np\n",
    "import matplotlib.pyplot as plt\n",
    "%matplotlib inline\n",
    "\n",
    "# Module relatif à Gurobi\n",
    "from gurobipy import *\n",
    "import json"
   ]
  },
  {
   "cell_type": "code",
   "execution_count": 2,
   "id": "845c20b0",
   "metadata": {},
   "outputs": [],
   "source": [
    "# Opening JSON file\n",
    "with open('toy_instance.json') as json_file:\n",
    "    data = json.load(json_file)"
   ]
  },
  {
   "cell_type": "code",
   "execution_count": 3,
   "id": "61c34302",
   "metadata": {},
   "outputs": [
    {
     "name": "stdout",
     "output_type": "stream",
     "text": [
      "Set parameter Username\n",
      "Academic license - for non-commercial use only - expires 2023-12-10\n"
     ]
    },
    {
     "data": {
      "text/plain": [
       "<gurobi.GenConstr *Awaiting Model Update*>"
      ]
     },
     "execution_count": 3,
     "metadata": {},
     "output_type": "execute_result"
    }
   ],
   "source": [
    "# Implémentation Python\n",
    "n_staff = len(data[\"staff\"])\n",
    "n_job = len(data[\"jobs\"])\n",
    "n_days = data[\"horizon\"]\n",
    "n_qual = len(data[\"qualifications\"])\n",
    "\n",
    "eps = 10**(-3)\n",
    "# Instanciation du modèle\n",
    "m = Model(\"PL modelling using matrix\")\n",
    "\n",
    "# Création d'un vecteur de 3 variables continues\n",
    "v = m.addMVar(shape=(n_staff, n_job, n_days, n_qual), vtype=GRB.BINARY)\n",
    "\n",
    "# qualification personnnel\n",
    "for i in range(n_staff):\n",
    "    for q in range(n_qual):\n",
    "        if not(data[\"qualifications\"][q] in data[\"staff\"][i][\"qualifications\"]):\n",
    "            m.addConstr(v[i,:,:,q].sum() == 0)\n",
    "\n",
    "\n",
    "# Contrainte d'unicité\n",
    "for i in range(n_staff):\n",
    "    for t in range(n_days):\n",
    "        m.addConstr(v[i,:,t,:].sum() <= 1)\n",
    "        \n",
    "\n",
    "# Contrainte de congés\n",
    "for i in range(n_staff):\n",
    "    for t in range(n_days):\n",
    "        if t+1 in data[\"staff\"][i][\"vacations\"]:\n",
    "            m.addConstr(v[i,:,t,:].sum() == 0)\n",
    "\n",
    "# Contrainte de couverture\n",
    "for p in range(n_job):\n",
    "    for q in range(n_qual):\n",
    "        qual = data[\"qualifications\"][q]\n",
    "        if qual in data[\"jobs\"][p][\"working_days_per_qualification\"].keys():\n",
    "            m.addConstr(v[:,p,:,q].sum() <= data[\"jobs\"][p][\"working_days_per_qualification\"][qual])\n",
    "            \n",
    "        \n",
    "        else:\n",
    "            m.addConstr(v[:,p,:,q].sum() <= 0)\n",
    "\n",
    "# def job_real\n",
    "job_real = m.addMVar(shape=(n_job), vtype=GRB.BINARY)\n",
    "for p in range(n_job):\n",
    "    n_qual_need = sum(data[\"jobs\"][p][\"working_days_per_qualification\"].values())\n",
    "    m.addConstr(v[:,p,:,:].sum() >= n_qual_need  - (n_qual_need+ eps)*(1-job_real[p]))\n",
    "    m.addConstr(v[:,p,:,:].sum() <= n_qual_need + (n_qual_need+ eps)*(job_real[p]))\n",
    "\n",
    "# def end_date\n",
    "end_date = m.addMVar(shape=(n_job), vtype=GRB.INTEGER, lb=0, ub=n_days)\n",
    "b_end_date = m.addMVar(shape=(n_job, n_days), vtype=GRB.BINARY)\n",
    "for p in range(n_job):\n",
    "    n_qual_need = sum(data[\"jobs\"][p][\"working_days_per_qualification\"].values())\n",
    "    m.addConstr(end_date[p] <= n_days)\n",
    "    for t in range(n_days):\n",
    "        m.addConstr(v[:,p,:t+1,:].sum()>= n_qual_need -eps - (n_days + eps) * (1 - b_end_date[p,t]))\n",
    "        m.addConstr(v[:,p,:t+1,:].sum()<= n_qual_need - eps + (n_days + eps) * b_end_date[p,t])\n",
    "        \n",
    "        m.addConstr(end_date[p] <= t * b_end_date[p,t] + n_days * (1 - b_end_date[p,t]))\n",
    "        m.addConstr(end_date[p] >= (t + eps) * (1 - b_end_date[p,t]))\n",
    "\n",
    "        \n",
    "# def start_date\n",
    "start_date = m.addMVar(shape=(n_job), vtype=GRB.INTEGER, lb=0, ub=n_days)\n",
    "b_start_date = m.addMVar(shape=(n_job, n_days), vtype=GRB.BINARY)\n",
    "for p in range(n_job):\n",
    "    n_qual_need = sum(data[\"jobs\"][p][\"working_days_per_qualification\"].values())\n",
    "    m.addConstr(start_date[p] <= n_days)\n",
    "    for t in range(n_days):\n",
    "        m.addConstr(v[:,p,:t+1,:].sum()>= eps - (n_days + eps) * (1 - b_start_date[p,t]))\n",
    "        m.addConstr(v[:,p,:t+1,:].sum()<= eps + (n_days + eps) * b_start_date[p,t])\n",
    "        \n",
    "        m.addConstr(start_date[p] <= t * b_start_date[p,t] + n_days * (1 - b_start_date[p,t]))\n",
    "        m.addConstr(start_date[p] >= (t + eps) * (1 - b_start_date[p,t]))\n",
    "\n",
    "# def number of project per employee\n",
    "project_per_employee = m.addMVar(shape=(n_staff), vtype=GRB.INTEGER, lb=0, ub=n_job)\n",
    "b_project_per_employee = m.addMVar(shape=(n_staff, n_job), vtype=GRB.BINARY)\n",
    "for i in range(n_staff):\n",
    "    m.addConstr(project_per_employee[i] <= n_job)\n",
    "    for p in range(n_job):\n",
    "        m.addConstr(v[i,p,:,:].sum()>= eps - (n_days + eps) * (1 - b_project_per_employee[i,p]))\n",
    "        m.addConstr(v[i,p,:,:].sum()<= eps + (n_days + eps) * b_project_per_employee[i,p])\n",
    "        \n",
    "    m.addConstr(project_per_employee[i] == b_project_per_employee[i,:].sum())\n",
    "\n",
    "max_project_per_employee = m.addMVar(shape=(1), vtype=GRB.INTEGER)\n",
    "m.addGenConstrMax(max_project_per_employee, list(project_per_employee))\n",
    "\n",
    "# def has_penality\n",
    "has_penality = m.addMVar(shape=(n_job), vtype=GRB.BINARY)\n",
    "penality = m.addMVar(shape=(n_job), vtype=GRB.INTEGER, lb=0, ub=n_days*data[\"jobs\"][0][\"daily_penalty\"])\n",
    "for p in range(n_job):\n",
    "    due_date = data[\"jobs\"][p][\"due_date\"] -1\n",
    "    m.addConstr(end_date[p] >= due_date + eps - (n_days + eps) * (1 - has_penality[p]))\n",
    "    m.addConstr(end_date[p] <= due_date + (n_days + eps) * (has_penality[p]))\n",
    "    \n",
    "    m.addConstr(penality[p] == has_penality[p] * data[\"jobs\"][p][\"daily_penalty\"] * (end_date[p] - due_date))\n",
    "\n",
    "\n",
    "# def duration\n",
    "duration = m.addMVar(shape=(n_job), vtype=GRB.INTEGER)\n",
    "m.addConstr(duration == end_date - start_date)\n",
    "\n",
    "max_duration = m.addMVar(shape=(1), vtype=GRB.INTEGER)\n",
    "m.addGenConstrMax(max_duration, list(duration))"
   ]
  },
  {
   "cell_type": "code",
   "execution_count": 4,
   "id": "fab7c368",
   "metadata": {},
   "outputs": [],
   "source": [
    "gain = np.zeros(n_job)\n",
    "for p in range(n_job):\n",
    "    gain[p] = data[\"jobs\"][p][\"gain\"]\n",
    "\n",
    "vec_for_sum = job_real * (gain - penality)"
   ]
  },
  {
   "cell_type": "code",
   "execution_count": 6,
   "id": "8fe8bf75",
   "metadata": {},
   "outputs": [
    {
     "ename": "GurobiError",
     "evalue": "Objective must be linear for multi-objective model",
     "output_type": "error",
     "traceback": [
      "\u001b[0;31m---------------------------------------------------------------------------\u001b[0m",
      "\u001b[0;31mGurobiError\u001b[0m                               Traceback (most recent call last)",
      "Input \u001b[0;32mIn [6]\u001b[0m, in \u001b[0;36m<cell line: 4>\u001b[0;34m()\u001b[0m\n\u001b[1;32m      1\u001b[0m m\u001b[38;5;241m.\u001b[39mModelSense \u001b[38;5;241m=\u001b[39m GRB\u001b[38;5;241m.\u001b[39mMINIMIZE\n\u001b[1;32m      2\u001b[0m \u001b[38;5;66;03m#m.setObjective(vec_for_sum.sum(), GRB.MAXIMIZE)\u001b[39;00m\n\u001b[0;32m----> 4\u001b[0m \u001b[43mm\u001b[49m\u001b[38;5;241;43m.\u001b[39;49m\u001b[43msetObjectiveN\u001b[49m\u001b[43m(\u001b[49m\u001b[38;5;241;43m-\u001b[39;49m\u001b[43mvec_for_sum\u001b[49m\u001b[38;5;241;43m.\u001b[39;49m\u001b[43msum\u001b[49m\u001b[43m(\u001b[49m\u001b[43m)\u001b[49m\u001b[43m,\u001b[49m\u001b[43m \u001b[49m\u001b[38;5;241;43m0\u001b[39;49m\u001b[43m)\u001b[49m\n\u001b[1;32m      5\u001b[0m m\u001b[38;5;241m.\u001b[39msetObjectiveN(max_duration, \u001b[38;5;241m1\u001b[39m)\n\u001b[1;32m      6\u001b[0m m\u001b[38;5;241m.\u001b[39msetObjectiveN(max_project_per_employee, \u001b[38;5;241m2\u001b[39m)\n",
      "File \u001b[0;32msrc/gurobipy/model.pxi:1539\u001b[0m, in \u001b[0;36mgurobipy.Model.setObjectiveN\u001b[0;34m()\u001b[0m\n",
      "\u001b[0;31mGurobiError\u001b[0m: Objective must be linear for multi-objective model"
     ]
    }
   ],
   "source": [
    "m.ModelSense = GRB.MINIMIZE\n",
    "#m.setObjective(vec_for_sum.sum(), GRB.MAXIMIZE)\n",
    "\n",
    "m.setObjectiveN(-vec_for_sum.sum(), 0)\n",
    "m.setObjectiveN(max_duration, 1)\n",
    "m.setObjectiveN(max_project_per_employee, 2)"
   ]
  },
  {
   "cell_type": "code",
   "execution_count": 54,
   "id": "aafd3bf0",
   "metadata": {},
   "outputs": [
    {
     "name": "stdout",
     "output_type": "stream",
     "text": [
      "None\n"
     ]
    }
   ],
   "source": [
    "m.params.outputflag = 0\n",
    "# maj\n",
    "m.update()\n",
    "# Affichage en mode texte du PL\n",
    "print(m.display())\n",
    "\n",
    "# Résolution du PL\n",
    "m.optimize()\n"
   ]
  },
  {
   "cell_type": "code",
   "execution_count": null,
   "id": "c14b54da",
   "metadata": {},
   "outputs": [],
   "source": [
    "# get the set of variables\n",
    "x = m.getVars()\n",
    "\n",
    "# Ensure status is optimal\n",
    "assert m.Status == GRB.Status.OPTIMAL\n",
    "\n",
    "# Query number of multiple objectives, and number of solutions\n",
    "nSolutions  = m.SolCount\n",
    "nObjectives = m.NumObj\n",
    "print('Problem has', nObjectives, 'objectives')\n",
    "print('Gurobi found', nSolutions, 'solutions')\n",
    "\n",
    "# For each solution, print value of first three variables, and\n",
    "# value for each objective function\n",
    "solutions = []\n",
    "for s in range(nSolutions):\n",
    "    # Set which solution we will query from now on\n",
    "    m.params.SolutionNumber = s\n",
    "    \n",
    "    # Print objective value of this solution in each objective\n",
    "    print('Solution', s, ':', end='')\n",
    "    for o in range(nObjectives):\n",
    "        # Set which objective we will query\n",
    "        m.params.ObjNumber = o\n",
    "        # Query the o-th objective value\n",
    "        print(' ',m.ObjNVal, end='')\n",
    "    \n",
    "    # print first three variables in the solution\n",
    "    n = min(len(x),3)\n",
    "    for j in range(n):\n",
    "        print(x[j].VarName, x[j].Xn, end='')\n",
    "    print('')\n",
    "    \n",
    "    # query the full vector of the o-th solution\n",
    "    solutions.append(m.getAttr('Xn',x))"
   ]
  },
  {
   "cell_type": "code",
   "execution_count": 45,
   "id": "1059c85b",
   "metadata": {},
   "outputs": [
    {
     "data": {
      "text/plain": [
       "array([3., 2., 4.])"
      ]
     },
     "execution_count": 45,
     "metadata": {},
     "output_type": "execute_result"
    }
   ],
   "source": [
    "project_per_employee.X"
   ]
  },
  {
   "cell_type": "code",
   "execution_count": 46,
   "id": "f61efd23",
   "metadata": {},
   "outputs": [
    {
     "data": {
      "text/plain": [
       "array([4.])"
      ]
     },
     "execution_count": 46,
     "metadata": {},
     "output_type": "execute_result"
    }
   ],
   "source": [
    "max_project_per_employee.X"
   ]
  },
  {
   "cell_type": "code",
   "execution_count": 47,
   "id": "752d1e1c",
   "metadata": {},
   "outputs": [
    {
     "data": {
      "text/plain": [
       "array([1., 0., 1., 1., 1.])"
      ]
     },
     "execution_count": 47,
     "metadata": {},
     "output_type": "execute_result"
    }
   ],
   "source": [
    "job_real.X"
   ]
  },
  {
   "cell_type": "code",
   "execution_count": 48,
   "id": "4c6b0edd",
   "metadata": {},
   "outputs": [
    {
     "data": {
      "text/plain": [
       "array([0., 9., 0., 0., 0.])"
      ]
     },
     "execution_count": 48,
     "metadata": {},
     "output_type": "execute_result"
    }
   ],
   "source": [
    "penality.X"
   ]
  },
  {
   "cell_type": "code",
   "execution_count": 49,
   "id": "fac62952",
   "metadata": {},
   "outputs": [
    {
     "data": {
      "text/plain": [
       "array([0., 1., 0., 0., 0.])"
      ]
     },
     "execution_count": 49,
     "metadata": {},
     "output_type": "execute_result"
    }
   ],
   "source": [
    "has_penality.X"
   ]
  },
  {
   "cell_type": "code",
   "execution_count": 50,
   "id": "9696231f",
   "metadata": {},
   "outputs": [
    {
     "data": {
      "text/plain": [
       "array([1., 3., 1., 0., 4.])"
      ]
     },
     "execution_count": 50,
     "metadata": {},
     "output_type": "execute_result"
    }
   ],
   "source": [
    "start_date.X"
   ]
  },
  {
   "cell_type": "code",
   "execution_count": 51,
   "id": "fc733041",
   "metadata": {},
   "outputs": [
    {
     "data": {
      "text/plain": [
       "array([2., 5., 3., 2., 4.])"
      ]
     },
     "execution_count": 51,
     "metadata": {},
     "output_type": "execute_result"
    }
   ],
   "source": [
    "end_date.X"
   ]
  },
  {
   "cell_type": "code",
   "execution_count": 52,
   "id": "98e80d10",
   "metadata": {},
   "outputs": [
    {
     "data": {
      "text/plain": [
       "array([1., 2., 2., 2., 0.])"
      ]
     },
     "execution_count": 52,
     "metadata": {},
     "output_type": "execute_result"
    }
   ],
   "source": [
    "duration.X"
   ]
  },
  {
   "cell_type": "code",
   "execution_count": 53,
   "id": "726fd026",
   "metadata": {},
   "outputs": [
    {
     "data": {
      "text/plain": [
       "array([2.])"
      ]
     },
     "execution_count": 53,
     "metadata": {},
     "output_type": "execute_result"
    }
   ],
   "source": [
    "max_duration.X"
   ]
  },
  {
   "cell_type": "code",
   "execution_count": 20,
   "id": "cf3b37ae",
   "metadata": {},
   "outputs": [
    {
     "data": {
      "text/plain": [
       "{'horizon': 5,\n",
       " 'qualifications': ['A', 'B', 'C'],\n",
       " 'staff': [{'name': 'Olivia',\n",
       "   'qualifications': ['A', 'B', 'C'],\n",
       "   'vacations': []},\n",
       "  {'name': 'Liam', 'qualifications': ['A', 'B'], 'vacations': [1]},\n",
       "  {'name': 'Emma', 'qualifications': ['C'], 'vacations': [2]}],\n",
       " 'jobs': [{'name': 'Job1',\n",
       "   'gain': 20,\n",
       "   'due_date': 3,\n",
       "   'daily_penalty': 3,\n",
       "   'working_days_per_qualification': {'A': 1, 'B': 1, 'C': 1}},\n",
       "  {'name': 'Job2',\n",
       "   'gain': 15,\n",
       "   'due_date': 3,\n",
       "   'daily_penalty': 3,\n",
       "   'working_days_per_qualification': {'A': 1, 'B': 2}},\n",
       "  {'name': 'Job3',\n",
       "   'gain': 15,\n",
       "   'due_date': 4,\n",
       "   'daily_penalty': 3,\n",
       "   'working_days_per_qualification': {'A': 1, 'C': 2}},\n",
       "  {'name': 'Job4',\n",
       "   'gain': 20,\n",
       "   'due_date': 3,\n",
       "   'daily_penalty': 3,\n",
       "   'working_days_per_qualification': {'B': 2, 'C': 1}},\n",
       "  {'name': 'Job5',\n",
       "   'gain': 10,\n",
       "   'due_date': 5,\n",
       "   'daily_penalty': 3,\n",
       "   'working_days_per_qualification': {'C': 2}}]}"
      ]
     },
     "execution_count": 20,
     "metadata": {},
     "output_type": "execute_result"
    }
   ],
   "source": [
    "data"
   ]
  },
  {
   "cell_type": "code",
   "execution_count": null,
   "id": "fe02b649",
   "metadata": {},
   "outputs": [],
   "source": []
  }
 ],
 "metadata": {
  "kernelspec": {
   "display_name": "Python 3 (ipykernel)",
   "language": "python",
   "name": "python3"
  },
  "language_info": {
   "codemirror_mode": {
    "name": "ipython",
    "version": 3
   },
   "file_extension": ".py",
   "mimetype": "text/x-python",
   "name": "python",
   "nbconvert_exporter": "python",
   "pygments_lexer": "ipython3",
   "version": "3.9.12"
  }
 },
 "nbformat": 4,
 "nbformat_minor": 5
}
