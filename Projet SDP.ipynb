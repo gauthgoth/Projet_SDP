{
 "cells": [
  {
   "cell_type": "markdown",
   "id": "33469b7b",
   "metadata": {},
   "source": [
    "# Projet SDP"
   ]
  },
  {
   "cell_type": "markdown",
   "id": "920695f0",
   "metadata": {},
   "source": [
    "Agathe Gioan, Amine Larhchim, Gauthier Roy"
   ]
  },
  {
   "cell_type": "markdown",
   "id": "a7cc62e3",
   "metadata": {},
   "source": [
    "### Chargement des modules"
   ]
  },
  {
   "cell_type": "code",
   "execution_count": 1,
   "id": "f82fa56e",
   "metadata": {},
   "outputs": [],
   "source": [
    "# Modules de base\n",
    "import numpy as np\n",
    "import matplotlib.pyplot as plt\n",
    "%matplotlib inline\n",
    "\n",
    "# Module relatif à Gurobi\n",
    "from gurobipy import *\n",
    "import json"
   ]
  },
  {
   "cell_type": "markdown",
   "id": "68bd767c",
   "metadata": {},
   "source": [
    "### Chargement des données"
   ]
  },
  {
   "cell_type": "code",
   "execution_count": 2,
   "id": "845c20b0",
   "metadata": {},
   "outputs": [],
   "source": [
    "# Opening JSON file\n",
    "with open('toy_instance.json') as json_file:\n",
    "    data = json.load(json_file)"
   ]
  },
  {
   "cell_type": "markdown",
   "id": "804252e8",
   "metadata": {},
   "source": [
    "### Définition des contraintes"
   ]
  },
  {
   "cell_type": "code",
   "execution_count": 3,
   "id": "61c34302",
   "metadata": {},
   "outputs": [
    {
     "name": "stdout",
     "output_type": "stream",
     "text": [
      "Set parameter Username\n",
      "Academic license - for non-commercial use only - expires 2023-12-10\n"
     ]
    },
    {
     "data": {
      "text/plain": [
       "<MQConstr (5,) *awaiting model update*>"
      ]
     },
     "execution_count": 3,
     "metadata": {},
     "output_type": "execute_result"
    }
   ],
   "source": [
    "# Implémentation Python\n",
    "n_staff = len(data[\"staff\"])\n",
    "n_job = len(data[\"jobs\"])\n",
    "n_days = data[\"horizon\"]\n",
    "n_qual = len(data[\"qualifications\"])\n",
    "\n",
    "eps = 10**(-3)\n",
    "# Instanciation du modèle\n",
    "m = Model(\"PL modelling using matrix\")\n",
    "\n",
    "# Création d'un vecteur de 3 variables continues\n",
    "v = m.addMVar(shape=(n_staff, n_job, n_days, n_qual), vtype=GRB.BINARY, name=\"v\")\n",
    "\n",
    "# qualification personnnel\n",
    "for i in range(n_staff):\n",
    "    for q in range(n_qual):\n",
    "        if not(data[\"qualifications\"][q] in data[\"staff\"][i][\"qualifications\"]):\n",
    "            m.addConstr(v[i,:,:,q].sum() == 0)\n",
    "\n",
    "\n",
    "# Contrainte d'unicité\n",
    "for i in range(n_staff):\n",
    "    for t in range(n_days):\n",
    "        m.addConstr(v[i,:,t,:].sum() <= 1)\n",
    "        \n",
    "\n",
    "# Contrainte de congés\n",
    "for i in range(n_staff):\n",
    "    for t in range(n_days):\n",
    "        if t+1 in data[\"staff\"][i][\"vacations\"]:\n",
    "            m.addConstr(v[i,:,t,:].sum() == 0)\n",
    "\n",
    "# Contrainte de couverture\n",
    "for p in range(n_job):\n",
    "    for q in range(n_qual):\n",
    "        qual = data[\"qualifications\"][q]\n",
    "        if qual in data[\"jobs\"][p][\"working_days_per_qualification\"].keys():\n",
    "            m.addConstr(v[:,p,:,q].sum() <= data[\"jobs\"][p][\"working_days_per_qualification\"][qual])\n",
    "            \n",
    "        \n",
    "        else:\n",
    "            m.addConstr(v[:,p,:,q].sum() <= 0)\n",
    "\n",
    "# def job_real\n",
    "job_real = m.addMVar(shape=(n_job), vtype=GRB.BINARY, name=\"job_real\")\n",
    "for p in range(n_job):\n",
    "    n_qual_need = sum(data[\"jobs\"][p][\"working_days_per_qualification\"].values())\n",
    "    m.addConstr(v[:,p,:,:].sum() >= n_qual_need  - (n_qual_need+ eps)*(1-job_real[p]))\n",
    "    m.addConstr(v[:,p,:,:].sum() <= n_qual_need + (n_qual_need+ eps)*(job_real[p]))\n",
    "\n",
    "# def end_date\n",
    "end_date = m.addMVar(shape=(n_job), vtype=GRB.INTEGER, lb=0, ub=n_days, name=\"end_date\")\n",
    "b_end_date = m.addMVar(shape=(n_job, n_days), vtype=GRB.BINARY, name=\"b_end_date\")\n",
    "for p in range(n_job):\n",
    "    n_qual_need = sum(data[\"jobs\"][p][\"working_days_per_qualification\"].values())\n",
    "    m.addConstr(end_date[p] <= n_days)\n",
    "    for t in range(n_days):\n",
    "        m.addConstr(v[:,p,:t+1,:].sum()>= n_qual_need -eps - (n_days + eps) * (1 - b_end_date[p,t]))\n",
    "        m.addConstr(v[:,p,:t+1,:].sum()<= n_qual_need - eps + (n_days + eps) * b_end_date[p,t])\n",
    "        \n",
    "        m.addConstr(end_date[p] <= t * b_end_date[p,t] + n_days * (1 - b_end_date[p,t]))\n",
    "        m.addConstr(end_date[p] >= (t + eps) * (1 - b_end_date[p,t]))\n",
    "\n",
    "        \n",
    "# def start_date\n",
    "start_date = m.addMVar(shape=(n_job), vtype=GRB.INTEGER, lb=0, ub=n_days, name=\"start_date\")\n",
    "b_start_date = m.addMVar(shape=(n_job, n_days), vtype=GRB.BINARY, name=\"b_start_date\")\n",
    "for p in range(n_job):\n",
    "    n_qual_need = sum(data[\"jobs\"][p][\"working_days_per_qualification\"].values())\n",
    "    m.addConstr(start_date[p] <= n_days)\n",
    "    for t in range(n_days):\n",
    "        m.addConstr(v[:,p,:t+1,:].sum()>= eps - (n_days + eps) * (1 - b_start_date[p,t]))\n",
    "        m.addConstr(v[:,p,:t+1,:].sum()<= eps + (n_days + eps) * b_start_date[p,t])\n",
    "        \n",
    "        m.addConstr(start_date[p] <= t * b_start_date[p,t] + n_days * (1 - b_start_date[p,t]))\n",
    "        m.addConstr(start_date[p] >= (t + eps) * (1 - b_start_date[p,t]))\n",
    "\n",
    "# def number of project per employee\n",
    "project_per_employee = m.addMVar(shape=(n_staff), vtype=GRB.INTEGER, lb=0, ub=n_job, name=\"project_per_employee\")\n",
    "b_project_per_employee = m.addMVar(shape=(n_staff, n_job), vtype=GRB.BINARY, name=\"b_project_per_employee\")\n",
    "for i in range(n_staff):\n",
    "    m.addConstr(project_per_employee[i] <= n_job)\n",
    "    for p in range(n_job):\n",
    "        m.addConstr(v[i,p,:,:].sum()>= eps - (n_days + eps) * (1 - b_project_per_employee[i,p]))\n",
    "        m.addConstr(v[i,p,:,:].sum()<= eps + (n_days + eps) * b_project_per_employee[i,p])\n",
    "        \n",
    "    m.addConstr(project_per_employee[i] == b_project_per_employee[i,:].sum())\n",
    "\n",
    "max_project_per_employee = m.addMVar(shape=(1), vtype=GRB.INTEGER, name=\"max_project_per_employee\")\n",
    "m.addGenConstrMax(max_project_per_employee, list(project_per_employee))\n",
    "\n",
    "# def has_penality\n",
    "has_penality = m.addMVar(shape=(n_job), vtype=GRB.BINARY, name=\"has_penality\")\n",
    "penality = m.addMVar(shape=(n_job), vtype=GRB.INTEGER, lb=0, ub=n_days*data[\"jobs\"][0][\"daily_penalty\"], name=\"penality\")\n",
    "for p in range(n_job):\n",
    "    due_date = data[\"jobs\"][p][\"due_date\"] -1\n",
    "    m.addConstr(end_date[p] >= due_date + eps - (n_days + eps) * (1 - has_penality[p]))\n",
    "    m.addConstr(end_date[p] <= due_date + (n_days + eps) * (has_penality[p]))\n",
    "    \n",
    "    m.addConstr(penality[p] == has_penality[p] * data[\"jobs\"][p][\"daily_penalty\"] * (end_date[p] - due_date))\n",
    "\n",
    "\n",
    "# def duration\n",
    "duration = m.addMVar(shape=(n_job), vtype=GRB.INTEGER, name=\"duration\")\n",
    "m.addConstr(duration == end_date - start_date)\n",
    "\n",
    "max_duration = m.addMVar(shape=(1), vtype=GRB.INTEGER, name=\"max_duration\")\n",
    "m.addGenConstrMax(max_duration, list(duration))\n",
    "\n",
    "gain = np.zeros(n_job)\n",
    "for p in range(n_job):\n",
    "    gain[p] = data[\"jobs\"][p][\"gain\"]\n",
    "\n",
    "# CA_per_project\n",
    "CA_per_project = m.addMVar(shape=(n_job), vtype=GRB.INTEGER, name=\"CA_per_project\")\n",
    "m.addConstr(CA_per_project == job_real * (gain - penality))"
   ]
  },
  {
   "cell_type": "code",
   "execution_count": 4,
   "id": "baf64c6e",
   "metadata": {},
   "outputs": [],
   "source": [
    "m.setObjective(CA_per_project.sum(), GRB.MAXIMIZE)\n",
    "m.params.outputflag = 0\n",
    "m.update()"
   ]
  },
  {
   "cell_type": "code",
   "execution_count": 6,
   "id": "32518c68",
   "metadata": {},
   "outputs": [
    {
     "name": "stdout",
     "output_type": "stream",
     "text": [
      "-0.0 0.0 0.0 \n",
      "\n",
      "20.0 0.0 1.0000000000000004 \n",
      "\n",
      "37.0 0.0 2.0 \n",
      "\n",
      "49.0 0.0 3.0 \n",
      "\n",
      "59.0 0.0 4.0 \n",
      "\n",
      "59.0 0.0 4.0 \n",
      "\n",
      "-0.0 0.0 0.0 \n",
      "\n",
      "30.0 1.0 1.0000000000000004 \n",
      "\n",
      "55.0 1.0 2.0 \n",
      "\n",
      "65.00000000000003 1.0 3.0 \n",
      "\n",
      "65.0 1.0 4.0 \n",
      "\n",
      "65.0 1.0 4.0 \n",
      "\n",
      "-0.0 0.0 0.0 \n",
      "\n",
      "42.000000000000014 2.0 1.0000000000000004 \n",
      "\n",
      "65.0 2.0 2.0 \n",
      "\n",
      "65.0 2.0 3.0 \n",
      "\n",
      "65.0 2.0 4.0 \n",
      "\n",
      "65.0 2.0 4.0 \n",
      "\n",
      "-0.0 0.0 0.0 \n",
      "\n",
      "42.0 2.0 1.0000000000000004 \n",
      "\n",
      "65.0 3.0 2.0 \n",
      "\n",
      "65.0 2.0 3.0 \n",
      "\n",
      "65.0 2.0 4.0 \n",
      "\n",
      "65.0 2.0 4.0 \n",
      "\n",
      "-0.0 0.0 0.0 \n",
      "\n",
      "42.00000600000001 2.0000000000000004 1.0000000000000002 \n",
      "\n",
      "65.0 3.0 2.0 \n",
      "\n",
      "65.0 2.0 3.0 \n",
      "\n",
      "65.0 4.0 4.0 \n",
      "\n",
      "65.0 4.0 5.0 \n",
      "\n",
      "-0.0 0.0 0.0 \n",
      "\n",
      "42.0 2.0 1.0000000000000004 \n",
      "\n",
      "65.0 2.0000000000000013 2.0 \n",
      "\n",
      "65.0 3.0 3.0 \n",
      "\n",
      "65.0 4.0 4.0 \n",
      "\n",
      "65.0 2.0 4.0 \n",
      "\n"
     ]
    }
   ],
   "source": [
    "for max_dur in range(n_days+1):\n",
    "    for n_proj in range(n_job+1):\n",
    "        m_it = m.copy()\n",
    "        m_it.addConstr(max_duration <= max_dur)\n",
    "        m_it.addConstr(max_project_per_employee <= n_proj)\n",
    "        \n",
    "        # maj\n",
    "        m_it.update()\n",
    "        # Affichage en mode texte du PL\n",
    "        \n",
    "        # Résolution du PL\n",
    "        m_it.optimize()\n",
    "        print(m_it.ObjVal, m_it.getVarByName(\"max_duration[0]\").X, m_it.getVarByName(\"max_project_per_employee[0]\").X, \"\\n\")\n",
    "        "
   ]
  },
  {
   "cell_type": "markdown",
   "id": "12295284",
   "metadata": {},
   "source": [
    "# Brouillon pour la suite"
   ]
  },
  {
   "cell_type": "code",
   "execution_count": 69,
   "id": "8fe8bf75",
   "metadata": {},
   "outputs": [],
   "source": [
    "m.ModelSense = GRB.MINIMIZE\n",
    "#m.setObjective(vec_for_sum.sum(), GRB.MAXIMIZE)\n",
    "\n",
    "m.setObjectiveN(-CA_per_project.sum(), 0, priority=0)\n",
    "m.setObjectiveN(max_duration, 1, priority=0)\n",
    "m.setObjectiveN(max_project_per_employee, 2, priority=0)"
   ]
  },
  {
   "cell_type": "code",
   "execution_count": 70,
   "id": "aafd3bf0",
   "metadata": {},
   "outputs": [
    {
     "name": "stdout",
     "output_type": "stream",
     "text": [
      "None\n"
     ]
    }
   ],
   "source": [
    "m.params.outputflag = 0\n",
    "# maj\n",
    "m.update()\n",
    "# Affichage en mode texte du PL\n",
    "print(m.display())\n",
    "\n",
    "# Résolution du PL\n",
    "m.optimize()\n"
   ]
  },
  {
   "cell_type": "markdown",
   "id": "73793999",
   "metadata": {},
   "source": [
    "#### Ensemble des solutions possibles"
   ]
  },
  {
   "cell_type": "code",
   "execution_count": 71,
   "id": "c14b54da",
   "metadata": {},
   "outputs": [
    {
     "name": "stdout",
     "output_type": "stream",
     "text": [
      "Problem has 3 objectives\n",
      "Gurobi found 10 solutions\n",
      "Solution 0 :  -413.0  7.0  6.0 \n",
      "Solution 1 :  -411.0  6.0  6.0 \n",
      "Solution 2 :  -411.0  7.0  6.0 \n",
      "Solution 3 :  -411.0  8.0  6.0 \n",
      "Solution 4 :  -411.0  8.0  7.0 \n",
      "Solution 5 :  -411.0  10.0  6.0 \n",
      "Solution 6 :  -408.0  10.0  6.0 \n",
      "Solution 7 :  -402.0  10.0  6.0 \n",
      "Solution 8 :  -398.0  10.0  6.0 \n",
      "Solution 9 :  -398.0  11.0  6.0 \n"
     ]
    }
   ],
   "source": [
    "solutions_obj = []\n",
    "# get the set of variables\n",
    "x = m.getVars()\n",
    "\n",
    "# Ensure status is optimal\n",
    "assert m.Status == GRB.Status.OPTIMAL\n",
    "\n",
    "# Query number of multiple objectives, and number of solutions\n",
    "nSolutions  = m.SolCount\n",
    "nObjectives = m.NumObj\n",
    "print('Problem has', nObjectives, 'objectives')\n",
    "print('Gurobi found', nSolutions, 'solutions')\n",
    "\n",
    "# For each solution, print value for each objective function\n",
    "solutions = []\n",
    "for s in range(nSolutions):\n",
    "    # Set which solution we will query from now on\n",
    "    m.params.SolutionNumber = s\n",
    "    \n",
    "    # Print objective value of this solution in each objective\n",
    "    print('Solution', s, ':', end='')\n",
    "    obj_sol = []\n",
    "    for o in range(nObjectives):\n",
    "        # Set which objective we will query\n",
    "        m.params.ObjNumber = o\n",
    "        # Query the o-th objective value\n",
    "        print(' ',m.ObjNVal, end='')\n",
    "        obj_sol.append(m.ObjNVal)\n",
    "    obj_sol.append(s)\n",
    "    solutions_obj.append(obj_sol)\n",
    "    print(' ')\n",
    "    \n",
    "    # query the full vector of the o-th solution\n",
    "    solutions.append(m.getAttr('Xn',x))\n",
    "    \n",
    "solutions_obj = np.array(solutions_obj)"
   ]
  },
  {
   "cell_type": "markdown",
   "id": "f4b47c57",
   "metadata": {},
   "source": [
    "#### Ensemble des solutions non dominées"
   ]
  },
  {
   "cell_type": "code",
   "execution_count": 72,
   "id": "ff372e36",
   "metadata": {},
   "outputs": [
    {
     "name": "stdout",
     "output_type": "stream",
     "text": [
      "Solution 0.0 : [-413.    7.    6.]\n",
      "Solution 1.0 : [-411.    6.    6.]\n",
      "Gurobi found 2 non dominated solutions\n"
     ]
    }
   ],
   "source": [
    "solutions_non_dom = []\n",
    "for i in range(len(solutions_obj)):\n",
    "    dominated = False\n",
    "    for obj in range(3):\n",
    "        obj_poss = list(range(3))\n",
    "        obj_poss.remove(obj)\n",
    "        possible_dom = solutions_obj[(solutions_obj[:,obj_poss[0]]==solutions_obj[i,obj_poss[0]]) & \n",
    "                                     (solutions_obj[:,obj_poss[1]]==solutions_obj[i,obj_poss[1]])]\n",
    "        if solutions_obj[i,obj] != possible_dom[:, obj].min():\n",
    "            dominated = True\n",
    "    if not(dominated):\n",
    "        solutions_non_dom.append(solutions_obj[i,:])\n",
    "        print('Solution', solutions_obj[i,-1], ':',solutions_obj[i,:3])\n",
    "        \n",
    "\n",
    "print('Gurobi found', len(solutions_non_dom), 'non dominated solutions')"
   ]
  },
  {
   "cell_type": "code",
   "execution_count": 73,
   "id": "b6aadf99",
   "metadata": {},
   "outputs": [
    {
     "data": {
      "text/plain": [
       "array([[-413.,    7.,    6.,    0.],\n",
       "       [-411.,    6.,    6.,    1.],\n",
       "       [-411.,    7.,    6.,    2.],\n",
       "       [-411.,    8.,    6.,    3.],\n",
       "       [-411.,    8.,    7.,    4.],\n",
       "       [-411.,   10.,    6.,    5.],\n",
       "       [-408.,   10.,    6.,    6.],\n",
       "       [-402.,   10.,    6.,    7.],\n",
       "       [-398.,   10.,    6.,    8.],\n",
       "       [-398.,   11.,    6.,    9.]])"
      ]
     },
     "execution_count": 73,
     "metadata": {},
     "output_type": "execute_result"
    }
   ],
   "source": [
    "solutions_obj"
   ]
  },
  {
   "cell_type": "code",
   "execution_count": 20,
   "id": "1059c85b",
   "metadata": {},
   "outputs": [
    {
     "data": {
      "text/plain": [
       "array([3., 2., 3.])"
      ]
     },
     "execution_count": 20,
     "metadata": {},
     "output_type": "execute_result"
    }
   ],
   "source": [
    "project_per_employee.X"
   ]
  },
  {
   "cell_type": "code",
   "execution_count": 21,
   "id": "f61efd23",
   "metadata": {},
   "outputs": [
    {
     "data": {
      "text/plain": [
       "array([3.])"
      ]
     },
     "execution_count": 21,
     "metadata": {},
     "output_type": "execute_result"
    }
   ],
   "source": [
    "max_project_per_employee.X"
   ]
  },
  {
   "cell_type": "code",
   "execution_count": 9,
   "id": "752d1e1c",
   "metadata": {},
   "outputs": [
    {
     "data": {
      "text/plain": [
       "array([ 1., -0.,  1.,  1.,  1.])"
      ]
     },
     "execution_count": 9,
     "metadata": {},
     "output_type": "execute_result"
    }
   ],
   "source": [
    "job_real.X"
   ]
  },
  {
   "cell_type": "code",
   "execution_count": 10,
   "id": "4c6b0edd",
   "metadata": {},
   "outputs": [
    {
     "data": {
      "text/plain": [
       "array([0., 9., 0., 0., 0.])"
      ]
     },
     "execution_count": 10,
     "metadata": {},
     "output_type": "execute_result"
    }
   ],
   "source": [
    "penality.X"
   ]
  },
  {
   "cell_type": "code",
   "execution_count": 11,
   "id": "fac62952",
   "metadata": {},
   "outputs": [
    {
     "data": {
      "text/plain": [
       "array([0., 1., 0., 0., 0.])"
      ]
     },
     "execution_count": 11,
     "metadata": {},
     "output_type": "execute_result"
    }
   ],
   "source": [
    "has_penality.X"
   ]
  },
  {
   "cell_type": "code",
   "execution_count": 12,
   "id": "9696231f",
   "metadata": {},
   "outputs": [
    {
     "data": {
      "text/plain": [
       "array([ 1.,  5.,  2., -0.,  3.])"
      ]
     },
     "execution_count": 12,
     "metadata": {},
     "output_type": "execute_result"
    }
   ],
   "source": [
    "start_date.X"
   ]
  },
  {
   "cell_type": "code",
   "execution_count": 13,
   "id": "fc733041",
   "metadata": {},
   "outputs": [
    {
     "data": {
      "text/plain": [
       "array([2., 5., 3., 1., 4.])"
      ]
     },
     "execution_count": 13,
     "metadata": {},
     "output_type": "execute_result"
    }
   ],
   "source": [
    "end_date.X"
   ]
  },
  {
   "cell_type": "code",
   "execution_count": 14,
   "id": "98e80d10",
   "metadata": {},
   "outputs": [
    {
     "data": {
      "text/plain": [
       "array([1., 0., 1., 1., 1.])"
      ]
     },
     "execution_count": 14,
     "metadata": {},
     "output_type": "execute_result"
    }
   ],
   "source": [
    "duration.X"
   ]
  },
  {
   "cell_type": "code",
   "execution_count": 15,
   "id": "726fd026",
   "metadata": {},
   "outputs": [
    {
     "data": {
      "text/plain": [
       "array([1.])"
      ]
     },
     "execution_count": 15,
     "metadata": {},
     "output_type": "execute_result"
    }
   ],
   "source": [
    "max_duration.X"
   ]
  },
  {
   "cell_type": "code",
   "execution_count": 16,
   "id": "cf3b37ae",
   "metadata": {},
   "outputs": [
    {
     "data": {
      "text/plain": [
       "{'horizon': 5,\n",
       " 'qualifications': ['A', 'B', 'C'],\n",
       " 'staff': [{'name': 'Olivia',\n",
       "   'qualifications': ['A', 'B', 'C'],\n",
       "   'vacations': []},\n",
       "  {'name': 'Liam', 'qualifications': ['A', 'B'], 'vacations': [1]},\n",
       "  {'name': 'Emma', 'qualifications': ['C'], 'vacations': [2]}],\n",
       " 'jobs': [{'name': 'Job1',\n",
       "   'gain': 20,\n",
       "   'due_date': 3,\n",
       "   'daily_penalty': 3,\n",
       "   'working_days_per_qualification': {'A': 1, 'B': 1, 'C': 1}},\n",
       "  {'name': 'Job2',\n",
       "   'gain': 15,\n",
       "   'due_date': 3,\n",
       "   'daily_penalty': 3,\n",
       "   'working_days_per_qualification': {'A': 1, 'B': 2}},\n",
       "  {'name': 'Job3',\n",
       "   'gain': 15,\n",
       "   'due_date': 4,\n",
       "   'daily_penalty': 3,\n",
       "   'working_days_per_qualification': {'A': 1, 'C': 2}},\n",
       "  {'name': 'Job4',\n",
       "   'gain': 20,\n",
       "   'due_date': 3,\n",
       "   'daily_penalty': 3,\n",
       "   'working_days_per_qualification': {'B': 2, 'C': 1}},\n",
       "  {'name': 'Job5',\n",
       "   'gain': 10,\n",
       "   'due_date': 5,\n",
       "   'daily_penalty': 3,\n",
       "   'working_days_per_qualification': {'C': 2}}]}"
      ]
     },
     "execution_count": 16,
     "metadata": {},
     "output_type": "execute_result"
    }
   ],
   "source": [
    "data"
   ]
  },
  {
   "cell_type": "code",
   "execution_count": null,
   "id": "fe02b649",
   "metadata": {},
   "outputs": [],
   "source": []
  }
 ],
 "metadata": {
  "kernelspec": {
   "display_name": "Python 3 (ipykernel)",
   "language": "python",
   "name": "python3"
  },
  "language_info": {
   "codemirror_mode": {
    "name": "ipython",
    "version": 3
   },
   "file_extension": ".py",
   "mimetype": "text/x-python",
   "name": "python",
   "nbconvert_exporter": "python",
   "pygments_lexer": "ipython3",
   "version": "3.9.12"
  }
 },
 "nbformat": 4,
 "nbformat_minor": 5
}
