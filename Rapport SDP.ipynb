{
 "cells": [
  {
   "cell_type": "markdown",
   "id": "570d32f0",
   "metadata": {},
   "source": [
    "### <center> <h1>Systèmes de Décision et Préférences : Projet</h1> <center>\n",
    "###### <center> <h2> Amine Larhchim, Gauthier Roy, Agathe Gioan </h2><center>"
   ]
  },
  {
   "attachments": {},
   "cell_type": "markdown",
   "id": "e4093dea",
   "metadata": {},
   "source": [
    "# Sommaire\n",
    "\n",
    "* [1. Définitions du sujet](#chapter1)\n",
    "    * [1.1. Contexte](#section_1_1)\n",
    "    * [1.2. Données](#section_1_2)\n",
    "    * [1.3. Variables de décision](#section_1_3)\n",
    "    * [1.4. Fonctions et Objectifs](#section_1_4)\n",
    "    * [1.5. Contraintes](#section_1_5)\n",
    "* [2. Solutions non dominées](#chapter2)\n",
    "* [3. Modèle de préférence](#chapter3)\n",
    "* [4. Résultats](#chapter4)\n",
    "    * [4.1. Toy instances](#section_4_1)\n",
    "    * [4.2. Medium instances](#section_4_2)\n",
    "    * [4.3. Large instances](#section_4_3)\n",
    "* [5. Conclusion](#chapter5)"
   ]
  },
  {
   "cell_type": "markdown",
   "id": "bd3abb9e",
   "metadata": {},
   "source": [
    "### 1. Définitions du sujet <a class=\"anchor\" id=\"chapter1\"></a>"
   ]
  },
  {
   "cell_type": "markdown",
   "id": "0454e306",
   "metadata": {},
   "source": [
    "#### 1.1. Contexte <a class=\"anchor\" id=\"section_1_1\"></a>"
   ]
  },
  {
   "attachments": {},
   "cell_type": "markdown",
   "id": "c30a5878",
   "metadata": {},
   "source": [
    "La société CompuOpti implémente des solutions d'optimisation et aide à la décision pour leurs clients. <br>\n",
    "Chaque projet nécessite de staffer sur un certains nombre de jours, un certains nombres d'employés sur des compétences spécifiques. <br>\n",
    "Le but est de fournir une planification optimale du personnel et les affectations sur les différents projets. <br><br>\n",
    "\n",
    "Pour cela, il faudra prendre en compte un horizon de temps sur lequel se déroulent les projets, le fait que chaque employé possède un certain nombre de qualifications parmi un ensemble donné, ont des jours de congés prédéfinis. <br>\n",
    "Chaque projet fait appel à certaines qualifications sur un certains nombres de jours et produit un gain s'il est réalisé avant sa date de livraison prédéfinie, ou bien il y aura des pénalités financières. <br><br> \n",
    "Les critères d'optimalité sont multiples : <br> \n",
    " - En premier lieu, nous voulons maximiser le profit. \n",
    " - Nous souhaitons ensuite que le nombre de projets par employés soit minimal. \n",
    " - Les projets doivent être réalisés dans un nombre limités de jours consécutifs. \n",
    " - Un employé ne peut réalisé qu'un projet et n'utiliser qu'une qualification (qu'il possède) à la fois, et ne doit pas travailler pendant ses jours de congés. \n",
    " - Un projet n'est réalisé que si tous les jours de travail dédiés à chacune de ses qualifications on été couvert dans l'horizon de temps. Il ne peut être réalisé qu'une seule fois. "
   ]
  },
  {
   "cell_type": "markdown",
   "id": "bb4cb274",
   "metadata": {},
   "source": [
    "#### 1.2. Données <a class=\"anchor\" id=\"section_1_2\"></a>"
   ]
  },
  {
   "cell_type": "markdown",
   "id": "f4d3bd88",
   "metadata": {},
   "source": [
    "Pour tester notre modèle, nous travaillons sur trois jeux de données de tailles différentes. Chaque jeux nous donnent des données différentes au format suivant. <br><br>\n",
    "\n",
    "Le json constistue un dictionnaire de données dans lequel nous retrouvons : \n",
    "- l'horizon total\n",
    "- l'ensemble des qualifications possibles\n",
    "- un dictionnaire pour les employés\n",
    "- un dictionnaire pour les projets \n",
    "\n",
    "Le dictionnaire pour les employés contient, pour chaque employé, les informations suivantes :\n",
    "- le nom de l'employé \n",
    "- ses qualifications\n",
    "- ses jours de congé\n",
    "\n",
    "Le dictionnaire pour les projets contient, pour chaque projet, les informations suivantes :\n",
    "- le nom du projet\n",
    "- son gain \n",
    "- sa date de livraison \n",
    "- sa pénalité par jour de retard \n",
    "- le nombre de jours nécessaires par qualification\n",
    "\n",
    "Voici un exemple de petit jeu de données qsur lequel nous pourrions travailler: <br><br>\n",
    "{<br>\n",
    "&emsp;    \"horizon\": 5,<br>\n",
    "&emsp;    \"qualifications\": [\"A\",\"B\",\"C\"],<br>\n",
    "&emsp;    \"staff\": [<br>\n",
    "&emsp;        &emsp;{<br>\n",
    "&emsp;        &emsp;    &emsp;\"name\": \"Olivia\",<br>\n",
    "&emsp;        &emsp;    &emsp;\"qualifications\": [\"A\",\"C\"],<br>\n",
    "&emsp;        &emsp;    &emsp;\"vacations\": []<br>\n",
    "&emsp;        &emsp;},<br>\n",
    "&emsp;        &emsp;{<br>\n",
    "&emsp;        &emsp;    &emsp;\"name\": \"Liam\",<br>\n",
    "&emsp;        &emsp;    &emsp;\"qualifications\": [\"A\",\"B\"],<br>\n",
    "&emsp;        &emsp;    &emsp;\"vacations\": [1]<br>\n",
    "&emsp;        &emsp;}<br>\n",
    "&emsp;    ],<br>\n",
    "&emsp;    \"jobs\": [<br>\n",
    "&emsp;        &emsp;{<br>\n",
    "&emsp;        &emsp;    &emsp;\"name\": \"Job1\",<br>\n",
    "&emsp;        &emsp;    &emsp;\"gain\": 20,<br>\n",
    "&emsp;        &emsp;    &emsp;\"due_date\": 3,<br>\n",
    "&emsp;        &emsp;    &emsp;\"daily_penalty\": 3,<br>\n",
    "&emsp;        &emsp;    &emsp;\"working_days_per_qualification\": {\"A\": 1,\"B\": 1,\"C\": 1}<br>\n",
    "&emsp;        &emsp;},<br>\n",
    "&emsp;        &emsp;{<br>\n",
    "&emsp;        &emsp;    &emsp;\"name\": \"Job2\",<br>\n",
    "&emsp;        &emsp;    &emsp;\"gain\": 15,<br>\n",
    "&emsp;        &emsp;    &emsp;\"due_date\": 3,<br>\n",
    "&emsp;        &emsp;    &emsp;\"daily_penalty\": 3,<br>\n",
    "&emsp;        &emsp;    &emsp;\"working_days_per_qualification\": {\"A\": 1,\"B\": 2}<br>\n",
    "&emsp;        &emsp;}<br>\n",
    "&emsp;    ]<br>\n",
    "&emsp;}\n",
    "&emsp;"
   ]
  },
  {
   "cell_type": "markdown",
   "id": "9d4029f5",
   "metadata": {},
   "source": [
    "#### 1.3. Paramètres du problème <a class=\"anchor\" id=\"section_1_4\"></a>"
   ]
  },
  {
   "cell_type": "markdown",
   "id": "11788479",
   "metadata": {},
   "source": [
    "Définition des paramètres du problème et leurs notations : "
   ]
  },
  {
   "attachments": {},
   "cell_type": "markdown",
   "id": "5cfc3146",
   "metadata": {},
   "source": [
    "Paramètre d'une instance:\n",
    "- $ T={1,...,t} $ l'horizon des temps\n",
    "- $ Q={1,...,q} $ l'ensemble des compétences\n",
    "- $ I={1,...,i} $ l'ensemble des employés\n",
    "- $ P={1,...,p} $ l'ensemble des employés <br>\n",
    "\n",
    "Un employé $i \\in I$ est caractérisé par :\n",
    "- $ qualifications_i $ ses qualifications.\n",
    "- $ vacations_i$ ses jours de congés. <br>\n",
    "\n",
    "Un projet $p \\in P$ est caractérisé par:\n",
    "- $ DueDate_p $ sa date de rendu attendu.\n",
    "- $ requirement_{p,q}$ pour $q \\in Q$ la quantité de compétence q attendue pour ce projet.\n",
    "- $Gain_p$ le gain obtenu en réalisant le projet.\n",
    "- $Penality_p$ la pénalité par jour de retard. <br>\n",
    "\n"
   ]
  },
  {
   "cell_type": "markdown",
   "id": "a80122ad",
   "metadata": {},
   "source": [
    "#### 1.4. Variables de décision <a class=\"anchor\" id=\"section_1_3\"></a>"
   ]
  },
  {
   "attachments": {},
   "cell_type": "markdown",
   "id": "02d3500d",
   "metadata": {},
   "source": [
    "- $X_{i,p,t,q}$ binaire : « vaut 1 si l'employé i est staffé sur le projet p au jour t avec la compétence q et 0 sinon» <br>\n",
    "- $Y_{p} $ binaire : « vaut 1 si le projet p est réalisé et 0 sinon. » <br>\n",
    "- $StartDate_{p} \\in T$ date de début de réalisation du projet<br>\n",
    "- $EndDate_{p} \\in T$ date de fin de réalisation du projet.\n",
    "- $ProjectPerEmployee_{i}$ entier: le nombre de projets par employé définit grace à la méthode BigM\n"
   ]
  },
  {
   "attachments": {},
   "cell_type": "markdown",
   "id": "9f23337c",
   "metadata": {},
   "source": [
    "\n",
    "Pour simplifier la formulation du problème nous définissons aussi les variables suivantes :\n",
    "- $MaxDuration= \\max_{\\substack{p}}(EndDate_p-startDate_p)$  donne la durée de réalisation du plus long projet. <br> \n",
    "- $MaxProject= \\max_{\\substack{i}} (ProjectPerEmployee_{i})$  le nombre de projets sur lesquels est staffé l'employé ayant le plus de projets. <br>\n",
    "- $PenalityFee_p= Penality_p\\times(EndDate_p-DueDate_p)\\times HasPenality_p$ avec $HasPenality_p$ définit avec la méthode BigM en vérifiant que la $EndDate_p >= DueDate_p$.\n",
    "\n",
    "\n",
    "\t"
   ]
  },
  {
   "cell_type": "markdown",
   "id": "96bf2f81",
   "metadata": {},
   "source": [
    "##### Problème : <a class=\"anchor\" id=\"section_1_3\"></a>"
   ]
  },
  {
   "cell_type": "markdown",
   "id": "c909a868",
   "metadata": {},
   "source": [
    "Maximize $\\sum_{\\substack{p}}(Gain_p-PenalityFee_p)\\times Yp$ <br>\n",
    "Minimize $MaxDuration$\t<br>\n",
    "Minimize $MaxProject$"
   ]
  },
  {
   "cell_type": "markdown",
   "id": "0ec4459e",
   "metadata": {},
   "source": [
    "#### 1.5. Contraintes du problème <a class=\"anchor\" id=\"section_1_5\"></a>"
   ]
  },
  {
   "attachments": {},
   "cell_type": "markdown",
   "id": "d3006555",
   "metadata": {},
   "source": [
    "Contrainte de qualification du personnel : <br>\n",
    "&emsp; ∀i, ∀q not in qualifications(i), $\\sum_{\\substack{p,t}} X_{i,p,t,q}=0$\t<br><br>\n",
    "Contrainte de congé : <br>\n",
    "&emsp; ∀i,t in vacations(i), $\\sum_{\\substack{p,q}} X_{i,p,t,q}=0$ <br><br>\n",
    "Contrainte d’unicité de l’affectation quotidienne du personnel : <br>\n",
    "&emsp; ∀t,i $\\sum_{\\substack{p,q}} X_{i,p,t,q} <= 1$ <br><br>\n",
    "Contrainte de couverture des qualifications du projet : <br>\n",
    "&emsp; ∀p,q, $\\sum_{\\substack{i,t}} X_{i,p,t,q} <= qualification(p,q)$ <br>\n",
    "&emsp; $\\sum_{\\substack{i,t,q}} X_{i,p,t,q}>=Y_{p} *qualifications(p,q) $\n"
   ]
  },
  {
   "attachments": {},
   "cell_type": "markdown",
   "id": "f4501aa5",
   "metadata": {},
   "source": [
    "### 2.  Solutions non dominées <a class=\"anchor\" id=\"chapter3\"></a>"
   ]
  },
  {
   "attachments": {},
   "cell_type": "markdown",
   "id": "90fd7d41",
   "metadata": {},
   "source": [
    "Après avoir défini le problème sous forme d'un problème d'optimisation multiobjectif. Nous allons à présent chercher les solutions non-dominés. \n",
    "Nous utilisons la méthode Epsilon constraint afin d'obtenir les points nadir de $MaxDuration$ et $MaxProject$"
   ]
  },
  {
   "attachments": {},
   "cell_type": "markdown",
   "id": "51cb932b",
   "metadata": {},
   "source": [
    "On limite notre espace aux points inférieurs aux points nadir pour les objectifs 2 et 3. Nous optimisions le premier objectif pour toutes les combinaisons de $MaxDuration$ et $MaxProject$ de notre espace limité.\n",
    "On filtre les solutions obtenus en vérifiant qu'elles sont bien non-dominées. "
   ]
  },
  {
   "attachments": {},
   "cell_type": "markdown",
   "id": "9f9a4f27",
   "metadata": {},
   "source": [
    "### 3. Modèle de préférence  <a class=\"anchor\" id=\"section_3_2\"></a> "
   ]
  },
  {
   "cell_type": "markdown",
   "id": "674d2bee",
   "metadata": {},
   "source": [
    "A l'étape précédente nous avons détérminer les plannings correspondant à l'ensemble des solutions non dominés du problème multicritère (P). <br>\n",
    "\n",
    "Pour pouvoir prendre une décision par rapport à notre problème, il va falloir discriminer les solutions entre elles et pouvoir juger de la qualité de chacun des plannings.\n",
    "Pour chaque solutions on a un triplet $(x_1,x_2,x_3)$ avec $x_1$ le gain correspondants à l'ensemble des projets réalisés, $x_2$ la durée du projet le plus long et $x_3$ le nombre maximum de projets différents sur lequels travaille le même employé. <br>\n",
    "\n",
    "Il semble évident que l'objectif le plus important est financier. On va d'abord chercher à avoir le plannings le plus lucratif. Mais on veut aussi ne pas trop surcharger nos équipes ou passer trop de temps sur un seul et même projet. Chaque décideur a sa propre sensiblité à chacun des objectifs qu'il est difficile de modéliser formellement. Nous proposons donc d'inférer ses préférences avec le modèle UTA. <br>\n",
    "\n",
    "Pour choisir parmis ces solutions nous allons élaborer un modèle de préférence à partir d'exemples de plannings : incorrects, corrects et satisfaisants choisis par le décideur."
   ]
  },
  {
   "cell_type": "markdown",
   "id": "34c71437",
   "metadata": {},
   "source": [
    "### 4.  Résultats <a class=\"anchor\" id=\"chapter4\"></a>"
   ]
  },
  {
   "attachments": {},
   "cell_type": "markdown",
   "id": "04a12400",
   "metadata": {},
   "source": [
    "#### 4.1. Toy instance <a class=\"anchor\" id=\"section_4_1\"></a>"
   ]
  },
  {
   "attachments": {},
   "cell_type": "markdown",
   "id": "304abbbe",
   "metadata": {},
   "source": [
    "Pour cette instance, le programme tourne très vite et nous trouvons 10 solutions non dominées: <br><br> \n",
    "(Gain, Max_duration, Max_number_project)<br>\n",
    "Solution 0 : [65, 1, 3] <br>\n",
    "Solution 1 : [59, 0, 4] <br>\n",
    "Solution 2 : [65, 2, 2] <br>\n",
    "Solution 3 : [42, 2, 1] <br>\n",
    "Solution 4 : [0, 0, 0] <br>\n",
    "Solution 5 : [20, 0, 1] <br>\n",
    "Solution 6 : [37, 0, 2] <br>\n",
    "Solution 7 : [49, 0, 3] <br>\n",
    "Solution 8 : [30, 1, 1] <br>\n",
    "Solution 9 : [55, 1, 2] <br><br>\n",
    "\n",
    "Pour ce genre de problème le décideur peut regarder les 10 solutions et donner ses préférences. Le modèle de préférence n'est pas vraiment nécessaire. Une fois la solution choisie, il est facile de donner les planning par projet et par employés (on le voit dans Viz_solution.ipynb)"
   ]
  },
  {
   "attachments": {},
   "cell_type": "markdown",
   "id": "e70adeec",
   "metadata": {},
   "source": [
    "#### 4.2. Medium instance <a class=\"anchor\" id=\"section_4_2\"></a>"
   ]
  },
  {
   "attachments": {},
   "cell_type": "markdown",
   "id": "546998cc",
   "metadata": {},
   "source": [
    "Pour cette instance, nous avons du changer quelques paramètres pour que le programme tourne plus vite. Nous avons ainsi relaxé la qualité des soutions demandées avec un MIPGAP fixé à 1%. Cette relaxation nous permet de calculer 49 solutions non dominées en environ 3h. <br><br> \n",
    "\n",
    "Pour ce problème, la modélisation de préférence de décideur est très utile car il est complexe de se décider entre 49 solutions. Nous demandons au decideur de classer quelques solutions (en incluant les cas limites) entre 3 classes et allons lui proposer les classes satisfaisantes renvoyées."
   ]
  },
  {
   "attachments": {},
   "cell_type": "markdown",
   "id": "580722f2",
   "metadata": {},
   "source": [
    "#### 4.3. Large instance <a class=\"anchor\" id=\"section_4_3\"></a>"
   ]
  },
  {
   "attachments": {},
   "cell_type": "markdown",
   "id": "3e8c3c78",
   "metadata": {},
   "source": [
    "Pour la grande instance, nous avons due nous limiter en temps d'optimisation (3 minutes) pour faire tourner une optimisation. Cela nous a néanmoins donné une erreur mémoire.<br>\n",
    "Nous pouvons faire tourner un nouveau modèle de préfrence avec la même démarche itilisée que pour l'instance moyenne."
   ]
  },
  {
   "attachments": {},
   "cell_type": "markdown",
   "id": "83274d7c",
   "metadata": {},
   "source": [
    "### 5.  Conclusion <a class=\"anchor\" id=\"chapter5\"></a>"
   ]
  },
  {
   "attachments": {},
   "cell_type": "markdown",
   "id": "6595565b",
   "metadata": {},
   "source": [
    "Ce projet nous a permis de trouver une manière efficace de faire des plannings en fonction de différents objectifs. Nous avons pu trouver toutes les solutions non dominées ainsi que modéliser les préférences d'un decideur données.<br>\n",
    "Les pistes d'améliorations possibles de notre modèle sont:\n",
    "- Faire un epsilone constraint en plusieurs dimension qui serait surêment plus rapide que la limitation à l'espace des points nadir\n",
    "- Optimiser le code afin de faire tourner l'algorithme plus vite, ce qui nous permettrait d'avoir des contraintes moins relaxées\n",
    "- Utiliser un second modèle de préférence (surclassement) et comparer les résultats de ces 2 modèles"
   ]
  },
  {
   "cell_type": "markdown",
   "id": "d582dc28",
   "metadata": {},
   "source": []
  }
 ],
 "metadata": {
  "kernelspec": {
   "display_name": "base",
   "language": "python",
   "name": "python3"
  },
  "language_info": {
   "codemirror_mode": {
    "name": "ipython",
    "version": 3
   },
   "file_extension": ".py",
   "mimetype": "text/x-python",
   "name": "python",
   "nbconvert_exporter": "python",
   "pygments_lexer": "ipython3",
   "version": "3.10.0"
  },
  "vscode": {
   "interpreter": {
    "hash": "d1f96fb79600881b9471d5ced490866b201f07d0708b9e0508408559db534913"
   }
  }
 },
 "nbformat": 4,
 "nbformat_minor": 5
}
