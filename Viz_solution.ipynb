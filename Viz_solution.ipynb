{
 "cells": [
  {
   "cell_type": "code",
   "execution_count": 1,
   "id": "7b243639",
   "metadata": {},
   "outputs": [],
   "source": [
    "# Modules de base\n",
    "import numpy as np\n",
    "import matplotlib.pyplot as plt\n",
    "%matplotlib inline\n",
    "from tqdm import tqdm\n",
    "import pandas as pd\n",
    "from utils import load_models_mps_sol, SolutionFromDict\n",
    "import os\n",
    "\n",
    "# Module relatif à Gurobi\n",
    "from gurobipy import *\n",
    "import json"
   ]
  },
  {
   "cell_type": "code",
   "execution_count": 2,
   "id": "2f5f970a",
   "metadata": {},
   "outputs": [],
   "source": [
    "data_name = \"toy_instance\""
   ]
  },
  {
   "cell_type": "code",
   "execution_count": 3,
   "id": "192483b7",
   "metadata": {},
   "outputs": [],
   "source": [
    "df = pd.read_csv(os.path.join(\"solution\", data_name, \"df_solution_json.csv\"), index_col=\"index\")"
   ]
  },
  {
   "cell_type": "code",
   "execution_count": 4,
   "id": "cfddbe36",
   "metadata": {},
   "outputs": [],
   "source": [
    "#from non_domination_research import keep_non_dom_sol\n",
    "#solutions = pd.read_csv(os.path.join(\"solution\", \"medium_instance\", \"df_solution.csv\"), index_col=\"index\")\n"
   ]
  },
  {
   "cell_type": "code",
   "execution_count": 5,
   "id": "6c0c473b",
   "metadata": {},
   "outputs": [],
   "source": [
    "#solutions[[\"benef\",\"max_duration\", \"max_project_per_employee\"]] = solutions[[\"benef\",\"max_duration\", \"max_project_per_employee\"]].astype(int)"
   ]
  },
  {
   "cell_type": "code",
   "execution_count": 6,
   "id": "cecc0f4d",
   "metadata": {},
   "outputs": [],
   "source": [
    "#_, df_non_dom = keep_non_dom_sol(solutions)"
   ]
  },
  {
   "cell_type": "code",
   "execution_count": 7,
   "id": "a30ced6b",
   "metadata": {},
   "outputs": [],
   "source": [
    "#df_non_dom"
   ]
  },
  {
   "cell_type": "code",
   "execution_count": 8,
   "id": "e961058d",
   "metadata": {},
   "outputs": [
    {
     "data": {
      "text/html": [
       "<div>\n",
       "<style scoped>\n",
       "    .dataframe tbody tr th:only-of-type {\n",
       "        vertical-align: middle;\n",
       "    }\n",
       "\n",
       "    .dataframe tbody tr th {\n",
       "        vertical-align: top;\n",
       "    }\n",
       "\n",
       "    .dataframe thead th {\n",
       "        text-align: right;\n",
       "    }\n",
       "</style>\n",
       "<table border=\"1\" class=\"dataframe\">\n",
       "  <thead>\n",
       "    <tr style=\"text-align: right;\">\n",
       "      <th></th>\n",
       "      <th>benef</th>\n",
       "      <th>max_duration</th>\n",
       "      <th>max_project_per_employee</th>\n",
       "      <th>model_path_json</th>\n",
       "    </tr>\n",
       "    <tr>\n",
       "      <th>index</th>\n",
       "      <th></th>\n",
       "      <th></th>\n",
       "      <th></th>\n",
       "      <th></th>\n",
       "    </tr>\n",
       "  </thead>\n",
       "  <tbody>\n",
       "    <tr>\n",
       "      <th>0</th>\n",
       "      <td>-65</td>\n",
       "      <td>1</td>\n",
       "      <td>3</td>\n",
       "      <td>solution/toy_instance/model/0.json</td>\n",
       "    </tr>\n",
       "    <tr>\n",
       "      <th>1</th>\n",
       "      <td>-59</td>\n",
       "      <td>0</td>\n",
       "      <td>4</td>\n",
       "      <td>solution/toy_instance/model/1.json</td>\n",
       "    </tr>\n",
       "    <tr>\n",
       "      <th>2</th>\n",
       "      <td>-65</td>\n",
       "      <td>2</td>\n",
       "      <td>2</td>\n",
       "      <td>solution/toy_instance/model/2.json</td>\n",
       "    </tr>\n",
       "    <tr>\n",
       "      <th>3</th>\n",
       "      <td>-42</td>\n",
       "      <td>2</td>\n",
       "      <td>1</td>\n",
       "      <td>solution/toy_instance/model/3.json</td>\n",
       "    </tr>\n",
       "    <tr>\n",
       "      <th>4</th>\n",
       "      <td>0</td>\n",
       "      <td>0</td>\n",
       "      <td>0</td>\n",
       "      <td>solution/toy_instance/model/4.json</td>\n",
       "    </tr>\n",
       "    <tr>\n",
       "      <th>5</th>\n",
       "      <td>-20</td>\n",
       "      <td>0</td>\n",
       "      <td>1</td>\n",
       "      <td>solution/toy_instance/model/5.json</td>\n",
       "    </tr>\n",
       "    <tr>\n",
       "      <th>6</th>\n",
       "      <td>-37</td>\n",
       "      <td>0</td>\n",
       "      <td>2</td>\n",
       "      <td>solution/toy_instance/model/6.json</td>\n",
       "    </tr>\n",
       "    <tr>\n",
       "      <th>7</th>\n",
       "      <td>-49</td>\n",
       "      <td>0</td>\n",
       "      <td>3</td>\n",
       "      <td>solution/toy_instance/model/7.json</td>\n",
       "    </tr>\n",
       "    <tr>\n",
       "      <th>8</th>\n",
       "      <td>-30</td>\n",
       "      <td>1</td>\n",
       "      <td>1</td>\n",
       "      <td>solution/toy_instance/model/8.json</td>\n",
       "    </tr>\n",
       "    <tr>\n",
       "      <th>9</th>\n",
       "      <td>-55</td>\n",
       "      <td>1</td>\n",
       "      <td>2</td>\n",
       "      <td>solution/toy_instance/model/9.json</td>\n",
       "    </tr>\n",
       "  </tbody>\n",
       "</table>\n",
       "</div>"
      ],
      "text/plain": [
       "       benef  max_duration  max_project_per_employee  \\\n",
       "index                                                  \n",
       "0        -65             1                         3   \n",
       "1        -59             0                         4   \n",
       "2        -65             2                         2   \n",
       "3        -42             2                         1   \n",
       "4          0             0                         0   \n",
       "5        -20             0                         1   \n",
       "6        -37             0                         2   \n",
       "7        -49             0                         3   \n",
       "8        -30             1                         1   \n",
       "9        -55             1                         2   \n",
       "\n",
       "                          model_path_json  \n",
       "index                                      \n",
       "0      solution/toy_instance/model/0.json  \n",
       "1      solution/toy_instance/model/1.json  \n",
       "2      solution/toy_instance/model/2.json  \n",
       "3      solution/toy_instance/model/3.json  \n",
       "4      solution/toy_instance/model/4.json  \n",
       "5      solution/toy_instance/model/5.json  \n",
       "6      solution/toy_instance/model/6.json  \n",
       "7      solution/toy_instance/model/7.json  \n",
       "8      solution/toy_instance/model/8.json  \n",
       "9      solution/toy_instance/model/9.json  "
      ]
     },
     "execution_count": 8,
     "metadata": {},
     "output_type": "execute_result"
    }
   ],
   "source": [
    "df"
   ]
  },
  {
   "cell_type": "code",
   "execution_count": 9,
   "id": "e334cd91",
   "metadata": {},
   "outputs": [],
   "source": [
    "# Opening JSON file\n",
    "with open(df.loc[1, \"model_path_json\"]) as json_file:\n",
    "    sol = json.load(json_file)"
   ]
  },
  {
   "cell_type": "code",
   "execution_count": 10,
   "id": "28c01545",
   "metadata": {},
   "outputs": [],
   "source": [
    "# Opening JSON file\n",
    "with open(data_name + '.json') as json_file:\n",
    "    data = json.load(json_file)"
   ]
  },
  {
   "cell_type": "code",
   "execution_count": 12,
   "id": "d1c9c948",
   "metadata": {},
   "outputs": [],
   "source": [
    "sol_class = SolutionFromDict(data, sol)"
   ]
  },
  {
   "cell_type": "code",
   "execution_count": 13,
   "id": "3f22c720",
   "metadata": {},
   "outputs": [
    {
     "name": "stdout",
     "output_type": "stream",
     "text": [
      "\n"
     ]
    }
   ],
   "source": [
    "sol_class.get_v()\n",
    "print()"
   ]
  },
  {
   "cell_type": "code",
   "execution_count": 14,
   "id": "786a7ab1",
   "metadata": {},
   "outputs": [
    {
     "data": {
      "text/plain": [
       "['Job1', 'Job2', 'Job3', 'Job4', 'Job5']"
      ]
     },
     "execution_count": 14,
     "metadata": {},
     "output_type": "execute_result"
    }
   ],
   "source": [
    "sol_class.list_job"
   ]
  },
  {
   "cell_type": "code",
   "execution_count": 15,
   "id": "8b3950b5",
   "metadata": {},
   "outputs": [
    {
     "data": {
      "text/plain": [
       "array([17.,  0., 12., 20., 10.])"
      ]
     },
     "execution_count": 15,
     "metadata": {},
     "output_type": "execute_result"
    }
   ],
   "source": [
    "sol_class.get_CA_per_project()"
   ]
  },
  {
   "cell_type": "code",
   "execution_count": null,
   "id": "97b94746",
   "metadata": {},
   "outputs": [
    {
     "data": {
      "text/plain": [
       "[['Job4 with qualification C'],\n",
       " ['vacation'],\n",
       " ['Job3 with qualification C'],\n",
       " ['Job3 with qualification C'],\n",
       " ['Job5 with qualification C']]"
      ]
     },
     "execution_count": 24,
     "metadata": {},
     "output_type": "execute_result"
    }
   ],
   "source": [
    "sol_class.get_planning_employee(\"Emma\")"
   ]
  },
  {
   "cell_type": "code",
   "execution_count": 16,
   "id": "8c426768",
   "metadata": {},
   "outputs": [
    {
     "data": {
      "text/plain": [
       "[['Olivia with qualification C', 'Emma with qualification C'],\n",
       " ['None'],\n",
       " ['None'],\n",
       " ['None'],\n",
       " ['None']]"
      ]
     },
     "execution_count": 16,
     "metadata": {},
     "output_type": "execute_result"
    }
   ],
   "source": [
    "sol_class.get_planning_project(\"Job5\")"
   ]
  },
  {
   "cell_type": "code",
   "execution_count": null,
   "id": "2fc302b5",
   "metadata": {},
   "outputs": [
    {
     "data": {
      "text/plain": [
       "[{'name': 'Olivia', 'qualifications': ['A', 'B', 'C'], 'vacations': []},\n",
       " {'name': 'Liam', 'qualifications': ['A', 'B'], 'vacations': [1]},\n",
       " {'name': 'Emma', 'qualifications': ['C'], 'vacations': [2]}]"
      ]
     },
     "execution_count": 22,
     "metadata": {},
     "output_type": "execute_result"
    }
   ],
   "source": [
    "data[\"staff\"]"
   ]
  },
  {
   "cell_type": "code",
   "execution_count": null,
   "id": "04533327",
   "metadata": {},
   "outputs": [],
   "source": []
  }
 ],
 "metadata": {
  "kernelspec": {
   "display_name": "base",
   "language": "python",
   "name": "python3"
  },
  "language_info": {
   "codemirror_mode": {
    "name": "ipython",
    "version": 3
   },
   "file_extension": ".py",
   "mimetype": "text/x-python",
   "name": "python",
   "nbconvert_exporter": "python",
   "pygments_lexer": "ipython3",
   "version": "3.10.0"
  },
  "vscode": {
   "interpreter": {
    "hash": "d1f96fb79600881b9471d5ced490866b201f07d0708b9e0508408559db534913"
   }
  }
 },
 "nbformat": 4,
 "nbformat_minor": 5
}
