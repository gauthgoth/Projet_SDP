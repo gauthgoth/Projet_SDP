{
 "cells": [
  {
   "attachments": {},
   "cell_type": "markdown",
   "id": "399bef40",
   "metadata": {},
   "source": [
    "# Notebook to visualize our results"
   ]
  },
  {
   "cell_type": "code",
   "execution_count": 1,
   "id": "7b243639",
   "metadata": {},
   "outputs": [],
   "source": [
    "# Modules de base\n",
    "import numpy as np\n",
    "import matplotlib.pyplot as plt\n",
    "%matplotlib inline\n",
    "from tqdm import tqdm\n",
    "import pandas as pd\n",
    "from utils import load_models_mps_sol, SolutionFromDict\n",
    "import os\n",
    "\n",
    "# Module relatif à Gurobi\n",
    "from gurobipy import *\n",
    "import json"
   ]
  },
  {
   "attachments": {},
   "cell_type": "markdown",
   "id": "bcee2efc",
   "metadata": {},
   "source": [
    "## Reading data"
   ]
  },
  {
   "cell_type": "code",
   "execution_count": 9,
   "id": "192483b7",
   "metadata": {},
   "outputs": [],
   "source": [
    "data_name = \"toy_instance\"\n",
    "df = pd.read_csv(os.path.join(\"solution\", data_name, \"df_solution_json.csv\"), index_col=\"index\")"
   ]
  },
  {
   "cell_type": "code",
   "execution_count": 3,
   "id": "e334cd91",
   "metadata": {},
   "outputs": [],
   "source": [
    "# Opening JSON file\n",
    "with open(df.loc[0, \"model_path_json\"]) as json_file:\n",
    "    sol = json.load(json_file)\n",
    "\n",
    "# Opening JSON file\n",
    "with open(data_name + '.json') as json_file:\n",
    "    data = json.load(json_file)"
   ]
  },
  {
   "attachments": {},
   "cell_type": "markdown",
   "id": "6e7e0aa7",
   "metadata": {},
   "source": [
    "## Initiate object and visualize planning "
   ]
  },
  {
   "cell_type": "code",
   "execution_count": 4,
   "id": "786a7ab1",
   "metadata": {},
   "outputs": [
    {
     "data": {
      "text/plain": [
       "['Job1', 'Job2', 'Job3', 'Job4', 'Job5']"
      ]
     },
     "execution_count": 4,
     "metadata": {},
     "output_type": "execute_result"
    }
   ],
   "source": [
    "sol_class = SolutionFromDict(data, sol)\n",
    "\n",
    "sol_class.get_v()\n",
    "sol_class.list_job"
   ]
  },
  {
   "cell_type": "code",
   "execution_count": 5,
   "id": "8b3950b5",
   "metadata": {},
   "outputs": [
    {
     "data": {
      "text/plain": [
       "array([20.,  0., 15., 20., 10.])"
      ]
     },
     "execution_count": 5,
     "metadata": {},
     "output_type": "execute_result"
    }
   ],
   "source": [
    "sol_class.get_CA_per_project()"
   ]
  },
  {
   "cell_type": "code",
   "execution_count": 6,
   "id": "97b94746",
   "metadata": {},
   "outputs": [
    {
     "data": {
      "text/plain": [
       "[['Job4 with qualification C'],\n",
       " ['vacation'],\n",
       " ['Job3 with qualification C'],\n",
       " ['Job3 with qualification C'],\n",
       " ['Job5 with qualification C']]"
      ]
     },
     "execution_count": 6,
     "metadata": {},
     "output_type": "execute_result"
    }
   ],
   "source": [
    "sol_class.get_planning_employee(\"Emma\")"
   ]
  },
  {
   "cell_type": "code",
   "execution_count": 7,
   "id": "8c426768",
   "metadata": {},
   "outputs": [
    {
     "data": {
      "text/plain": [
       "[['None'],\n",
       " ['None'],\n",
       " ['None'],\n",
       " ['None'],\n",
       " ['Olivia with qualification C', 'Emma with qualification C']]"
      ]
     },
     "execution_count": 7,
     "metadata": {},
     "output_type": "execute_result"
    }
   ],
   "source": [
    "sol_class.get_planning_project(\"Job5\")"
   ]
  },
  {
   "cell_type": "code",
   "execution_count": 8,
   "id": "2fc302b5",
   "metadata": {},
   "outputs": [
    {
     "data": {
      "text/plain": [
       "[{'name': 'Job1',\n",
       "  'gain': 20,\n",
       "  'due_date': 3,\n",
       "  'daily_penalty': 3,\n",
       "  'working_days_per_qualification': {'A': 1, 'B': 1, 'C': 1}},\n",
       " {'name': 'Job2',\n",
       "  'gain': 15,\n",
       "  'due_date': 3,\n",
       "  'daily_penalty': 3,\n",
       "  'working_days_per_qualification': {'A': 1, 'B': 2}},\n",
       " {'name': 'Job3',\n",
       "  'gain': 15,\n",
       "  'due_date': 4,\n",
       "  'daily_penalty': 3,\n",
       "  'working_days_per_qualification': {'A': 1, 'C': 2}},\n",
       " {'name': 'Job4',\n",
       "  'gain': 20,\n",
       "  'due_date': 3,\n",
       "  'daily_penalty': 3,\n",
       "  'working_days_per_qualification': {'B': 2, 'C': 1}},\n",
       " {'name': 'Job5',\n",
       "  'gain': 10,\n",
       "  'due_date': 5,\n",
       "  'daily_penalty': 3,\n",
       "  'working_days_per_qualification': {'C': 2}}]"
      ]
     },
     "execution_count": 8,
     "metadata": {},
     "output_type": "execute_result"
    }
   ],
   "source": [
    "data[\"jobs\"]"
   ]
  }
 ],
 "metadata": {
  "kernelspec": {
   "display_name": "base",
   "language": "python",
   "name": "python3"
  },
  "language_info": {
   "codemirror_mode": {
    "name": "ipython",
    "version": 3
   },
   "file_extension": ".py",
   "mimetype": "text/x-python",
   "name": "python",
   "nbconvert_exporter": "python",
   "pygments_lexer": "ipython3",
   "version": "3.10.0"
  },
  "vscode": {
   "interpreter": {
    "hash": "d1f96fb79600881b9471d5ced490866b201f07d0708b9e0508408559db534913"
   }
  }
 },
 "nbformat": 4,
 "nbformat_minor": 5
}
