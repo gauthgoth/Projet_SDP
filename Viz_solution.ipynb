{
 "cells": [
  {
   "cell_type": "code",
   "execution_count": 1,
   "id": "7b243639",
   "metadata": {},
   "outputs": [],
   "source": [
    "# Modules de base\n",
    "import numpy as np\n",
    "import matplotlib.pyplot as plt\n",
    "%matplotlib inline\n",
    "from tqdm import tqdm\n",
    "import pandas as pd\n",
    "from utils import load_models_mps_sol, SolutionFromDict\n",
    "import os\n",
    "\n",
    "# Module relatif à Gurobi\n",
    "from gurobipy import *\n",
    "import json"
   ]
  },
  {
   "cell_type": "code",
   "execution_count": 2,
   "id": "2f5f970a",
   "metadata": {},
   "outputs": [],
   "source": [
    "data_name = \"toy_instance\""
   ]
  },
  {
   "cell_type": "code",
   "execution_count": 3,
   "id": "192483b7",
   "metadata": {},
   "outputs": [],
   "source": [
    "df = pd.read_csv(os.path.join(\"solution\", data_name, \"df_solution_json.csv\"), index_col=\"index\")"
   ]
  },
  {
   "cell_type": "code",
   "execution_count": 5,
   "id": "e334cd91",
   "metadata": {},
   "outputs": [],
   "source": [
    "# Opening JSON file\n",
    "with open(df.loc[1, \"model_path_json\"]) as json_file:\n",
    "    sol = json.load(json_file)"
   ]
  },
  {
   "cell_type": "code",
   "execution_count": 6,
   "id": "28c01545",
   "metadata": {},
   "outputs": [],
   "source": [
    "# Opening JSON file\n",
    "with open(data_name + '.json') as json_file:\n",
    "    data = json.load(json_file)"
   ]
  },
  {
   "cell_type": "code",
   "execution_count": 7,
   "id": "d1c9c948",
   "metadata": {},
   "outputs": [],
   "source": [
    "sol_class = SolutionFromDict(data, sol)"
   ]
  },
  {
   "cell_type": "code",
   "execution_count": 26,
   "id": "3f22c720",
   "metadata": {},
   "outputs": [
    {
     "name": "stdout",
     "output_type": "stream",
     "text": [
      "\n"
     ]
    }
   ],
   "source": [
    "sol_class.get_v()\n",
    "print()"
   ]
  },
  {
   "cell_type": "code",
   "execution_count": 9,
   "id": "786a7ab1",
   "metadata": {},
   "outputs": [
    {
     "data": {
      "text/plain": [
       "['Job1', 'Job2', 'Job3', 'Job4', 'Job5']"
      ]
     },
     "execution_count": 9,
     "metadata": {},
     "output_type": "execute_result"
    }
   ],
   "source": [
    "sol_class.list_job"
   ]
  },
  {
   "cell_type": "code",
   "execution_count": 10,
   "id": "8b3950b5",
   "metadata": {},
   "outputs": [
    {
     "data": {
      "text/plain": [
       "array([20.,  0., 15., 20., 10.])"
      ]
     },
     "execution_count": 10,
     "metadata": {},
     "output_type": "execute_result"
    }
   ],
   "source": [
    "sol_class.get_CA_per_project()"
   ]
  },
  {
   "cell_type": "code",
   "execution_count": 24,
   "id": "97b94746",
   "metadata": {},
   "outputs": [
    {
     "data": {
      "text/plain": [
       "[['Job4 with qualification C'],\n",
       " ['vacation'],\n",
       " ['Job3 with qualification C'],\n",
       " ['Job3 with qualification C'],\n",
       " ['Job5 with qualification C']]"
      ]
     },
     "execution_count": 24,
     "metadata": {},
     "output_type": "execute_result"
    }
   ],
   "source": [
    "sol_class.get_planning_employee(\"Emma\")"
   ]
  },
  {
   "cell_type": "code",
   "execution_count": 21,
   "id": "8c426768",
   "metadata": {},
   "outputs": [
    {
     "data": {
      "text/plain": [
       "[['None'],\n",
       " ['None'],\n",
       " ['None'],\n",
       " ['None'],\n",
       " ['Olivia with qualification C', 'Emma with qualification C']]"
      ]
     },
     "execution_count": 21,
     "metadata": {},
     "output_type": "execute_result"
    }
   ],
   "source": [
    "sol_class.get_planning_project(\"Job5\")"
   ]
  },
  {
   "cell_type": "code",
   "execution_count": 22,
   "id": "2fc302b5",
   "metadata": {},
   "outputs": [
    {
     "data": {
      "text/plain": [
       "[{'name': 'Olivia', 'qualifications': ['A', 'B', 'C'], 'vacations': []},\n",
       " {'name': 'Liam', 'qualifications': ['A', 'B'], 'vacations': [1]},\n",
       " {'name': 'Emma', 'qualifications': ['C'], 'vacations': [2]}]"
      ]
     },
     "execution_count": 22,
     "metadata": {},
     "output_type": "execute_result"
    }
   ],
   "source": [
    "data[\"staff\"]"
   ]
  },
  {
   "cell_type": "code",
   "execution_count": null,
   "id": "04533327",
   "metadata": {},
   "outputs": [],
   "source": []
  }
 ],
 "metadata": {
  "kernelspec": {
   "display_name": "base",
   "language": "python",
   "name": "python3"
  },
  "language_info": {
   "codemirror_mode": {
    "name": "ipython",
    "version": 3
   },
   "file_extension": ".py",
   "mimetype": "text/x-python",
   "name": "python",
   "nbconvert_exporter": "python",
   "pygments_lexer": "ipython3",
   "version": "3.9.12 (main, Apr  5 2022, 01:53:17) \n[Clang 12.0.0 ]"
  },
  "vscode": {
   "interpreter": {
    "hash": "d1f96fb79600881b9471d5ced490866b201f07d0708b9e0508408559db534913"
   }
  }
 },
 "nbformat": 4,
 "nbformat_minor": 5
}
