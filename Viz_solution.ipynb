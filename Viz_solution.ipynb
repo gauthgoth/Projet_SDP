{
 "cells": [
  {
   "attachments": {},
   "cell_type": "markdown",
   "id": "399bef40",
   "metadata": {},
   "source": [
    "# Notebook to visualize our results"
   ]
  },
  {
   "cell_type": "code",
   "execution_count": 2,
   "id": "7b243639",
   "metadata": {},
   "outputs": [],
   "source": [
    "# Modules de base\n",
    "import numpy as np\n",
    "import matplotlib.pyplot as plt\n",
    "%matplotlib inline\n",
    "from tqdm import tqdm\n",
    "import pandas as pd\n",
    "from utils import load_models_mps_sol, SolutionFromDict\n",
    "import os\n",
    "\n",
    "# Module relatif à Gurobi\n",
    "from gurobipy import *\n",
    "import json"
   ]
  },
  {
   "attachments": {},
   "cell_type": "markdown",
   "id": "bcee2efc",
   "metadata": {},
   "source": [
    "## Reading data"
   ]
  },
  {
   "cell_type": "code",
   "execution_count": 11,
   "id": "192483b7",
   "metadata": {},
   "outputs": [],
   "source": [
    "data_name = \"medium_instance\"\n",
    "df = pd.read_csv(os.path.join(\"solution\", data_name, \"df_solution_json.csv\"), index_col=\"index\")"
   ]
  },
  {
   "cell_type": "code",
   "execution_count": 12,
   "id": "e334cd91",
   "metadata": {},
   "outputs": [],
   "source": [
    "# Opening JSON file\n",
    "with open(df.loc[0, \"model_path_json\"]) as json_file:\n",
    "    sol = json.load(json_file)\n",
    "\n",
    "# Opening JSON file\n",
    "with open(data_name + '.json') as json_file:\n",
    "    data = json.load(json_file)"
   ]
  },
  {
   "attachments": {},
   "cell_type": "markdown",
   "id": "6e7e0aa7",
   "metadata": {},
   "source": [
    "## Initiate object and visualize planning "
   ]
  },
  {
   "cell_type": "code",
   "execution_count": 13,
   "id": "786a7ab1",
   "metadata": {},
   "outputs": [
    {
     "data": {
      "text/plain": [
       "['Job1',\n",
       " 'Job2',\n",
       " 'Job3',\n",
       " 'Job4',\n",
       " 'Job5',\n",
       " 'Job6',\n",
       " 'Job7',\n",
       " 'Job8',\n",
       " 'Job9',\n",
       " 'Job10',\n",
       " 'Job11',\n",
       " 'Job12',\n",
       " 'Job13',\n",
       " 'Job14',\n",
       " 'Job15']"
      ]
     },
     "execution_count": 13,
     "metadata": {},
     "output_type": "execute_result"
    }
   ],
   "source": [
    "sol_class = SolutionFromDict(data, sol)\n",
    "\n",
    "sol_class.get_v()\n",
    "sol_class.list_job"
   ]
  },
  {
   "cell_type": "code",
   "execution_count": 14,
   "id": "8b3950b5",
   "metadata": {},
   "outputs": [
    {
     "data": {
      "text/plain": [
       "array([12.,  0., 30., 30., 70., 40., 14.,  0., 22.,  0.,  0., 45., 40.,\n",
       "       60., 50.])"
      ]
     },
     "execution_count": 14,
     "metadata": {},
     "output_type": "execute_result"
    }
   ],
   "source": [
    "sol_class.get_CA_per_project()"
   ]
  },
  {
   "cell_type": "code",
   "execution_count": 15,
   "id": "97b94746",
   "metadata": {},
   "outputs": [
    {
     "data": {
      "text/plain": [
       "[['Job5 with qualification B'],\n",
       " ['Job5 with qualification B'],\n",
       " ['Job5 with qualification B'],\n",
       " ['Job12 with qualification H'],\n",
       " ['Job12 with qualification H'],\n",
       " ['Job12 with qualification H'],\n",
       " ['Job12 with qualification H'],\n",
       " ['vacation'],\n",
       " ['vacation'],\n",
       " ['Job12 with qualification H'],\n",
       " ['Job12 with qualification H'],\n",
       " ['Job15 with qualification H'],\n",
       " ['Job15 with qualification H'],\n",
       " ['Job15 with qualification H'],\n",
       " ['Job15 with qualification H'],\n",
       " ['Job9 with qualification H'],\n",
       " ['Job1 with qualification B'],\n",
       " ['Job1 with qualification B'],\n",
       " ['Job9 with qualification H'],\n",
       " ['Job1 with qualification B'],\n",
       " ['Job1 with qualification B'],\n",
       " ['Job2 with qualification B']]"
      ]
     },
     "execution_count": 15,
     "metadata": {},
     "output_type": "execute_result"
    }
   ],
   "source": [
    "sol_class.get_planning_employee(\"Emma\")"
   ]
  },
  {
   "cell_type": "code",
   "execution_count": 16,
   "id": "8c426768",
   "metadata": {},
   "outputs": [
    {
     "data": {
      "text/plain": [
       "[['Emma with qualification B', 'Noah with qualification D'],\n",
       " ['Emma with qualification B', 'Noah with qualification D'],\n",
       " ['Olivia with qualification C',\n",
       "  'Liam with qualification D',\n",
       "  'Emma with qualification B'],\n",
       " ['Liam with qualification D'],\n",
       " ['Olivia with qualification C', 'Liam with qualification D'],\n",
       " ['Liam with qualification D'],\n",
       " ['Olivia with qualification C', 'Liam with qualification D'],\n",
       " ['Olivia with qualification C', 'Liam with qualification D'],\n",
       " ['None'],\n",
       " ['None'],\n",
       " ['None'],\n",
       " ['None'],\n",
       " ['None'],\n",
       " ['None'],\n",
       " ['None'],\n",
       " ['None'],\n",
       " ['None'],\n",
       " ['None'],\n",
       " ['None'],\n",
       " ['None'],\n",
       " ['None'],\n",
       " ['None']]"
      ]
     },
     "execution_count": 16,
     "metadata": {},
     "output_type": "execute_result"
    }
   ],
   "source": [
    "sol_class.get_planning_project(\"Job5\")"
   ]
  },
  {
   "cell_type": "code",
   "execution_count": 17,
   "id": "2fc302b5",
   "metadata": {},
   "outputs": [
    {
     "data": {
      "text/plain": [
       "[{'name': 'Job1',\n",
       "  'gain': 15,\n",
       "  'due_date': 20,\n",
       "  'daily_penalty': 3,\n",
       "  'working_days_per_qualification': {'A': 4, 'B': 4}},\n",
       " {'name': 'Job2',\n",
       "  'gain': 30,\n",
       "  'due_date': 16,\n",
       "  'daily_penalty': 3,\n",
       "  'working_days_per_qualification': {'A': 4, 'B': 2, 'C': 1, 'D': 4}},\n",
       " {'name': 'Job3',\n",
       "  'gain': 30,\n",
       "  'due_date': 12,\n",
       "  'daily_penalty': 3,\n",
       "  'working_days_per_qualification': {'A': 4, 'C': 1}},\n",
       " {'name': 'Job4',\n",
       "  'gain': 30,\n",
       "  'due_date': 18,\n",
       "  'daily_penalty': 3,\n",
       "  'working_days_per_qualification': {'A': 6}},\n",
       " {'name': 'Job5',\n",
       "  'gain': 70,\n",
       "  'due_date': 10,\n",
       "  'daily_penalty': 3,\n",
       "  'working_days_per_qualification': {'B': 3, 'C': 4, 'D': 8}},\n",
       " {'name': 'Job6',\n",
       "  'gain': 40,\n",
       "  'due_date': 16,\n",
       "  'daily_penalty': 3,\n",
       "  'working_days_per_qualification': {'D': 4, 'E': 5}},\n",
       " {'name': 'Job7',\n",
       "  'gain': 20,\n",
       "  'due_date': 20,\n",
       "  'daily_penalty': 3,\n",
       "  'working_days_per_qualification': {'D': 5, 'E': 5, 'F': 1}},\n",
       " {'name': 'Job8',\n",
       "  'gain': 10,\n",
       "  'due_date': 22,\n",
       "  'daily_penalty': 3,\n",
       "  'working_days_per_qualification': {'E': 3, 'F': 6}},\n",
       " {'name': 'Job9',\n",
       "  'gain': 25,\n",
       "  'due_date': 18,\n",
       "  'daily_penalty': 3,\n",
       "  'working_days_per_qualification': {'E': 4, 'G': 3, 'H': 2}},\n",
       " {'name': 'Job10',\n",
       "  'gain': 20,\n",
       "  'due_date': 18,\n",
       "  'daily_penalty': 3,\n",
       "  'working_days_per_qualification': {'F': 6}},\n",
       " {'name': 'Job11',\n",
       "  'gain': 25,\n",
       "  'due_date': 18,\n",
       "  'daily_penalty': 3,\n",
       "  'working_days_per_qualification': {'F': 6, 'G': 2, 'H': 1}},\n",
       " {'name': 'Job12',\n",
       "  'gain': 45,\n",
       "  'due_date': 12,\n",
       "  'daily_penalty': 3,\n",
       "  'working_days_per_qualification': {'H': 6, 'J': 3}},\n",
       " {'name': 'Job13',\n",
       "  'gain': 40,\n",
       "  'due_date': 14,\n",
       "  'daily_penalty': 3,\n",
       "  'working_days_per_qualification': {'I': 4, 'J': 8}},\n",
       " {'name': 'Job14',\n",
       "  'gain': 60,\n",
       "  'due_date': 12,\n",
       "  'daily_penalty': 3,\n",
       "  'working_days_per_qualification': {'G': 4, 'J': 4}},\n",
       " {'name': 'Job15',\n",
       "  'gain': 50,\n",
       "  'due_date': 16,\n",
       "  'daily_penalty': 3,\n",
       "  'working_days_per_qualification': {'G': 4, 'H': 4}}]"
      ]
     },
     "execution_count": 17,
     "metadata": {},
     "output_type": "execute_result"
    }
   ],
   "source": [
    "data[\"jobs\"]"
   ]
  },
  {
   "cell_type": "code",
   "execution_count": null,
   "id": "a0237608",
   "metadata": {},
   "outputs": [],
   "source": []
  }
 ],
 "metadata": {
  "kernelspec": {
   "display_name": "base",
   "language": "python",
   "name": "python3"
  },
  "language_info": {
   "codemirror_mode": {
    "name": "ipython",
    "version": 3
   },
   "file_extension": ".py",
   "mimetype": "text/x-python",
   "name": "python",
   "nbconvert_exporter": "python",
   "pygments_lexer": "ipython3",
   "version": "3.10.0"
  },
  "vscode": {
   "interpreter": {
    "hash": "d1f96fb79600881b9471d5ced490866b201f07d0708b9e0508408559db534913"
   }
  }
 },
 "nbformat": 4,
 "nbformat_minor": 5
}
